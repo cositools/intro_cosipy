{
 "cells": [
  {
   "cell_type": "markdown",
   "id": "a0226ddc",
   "metadata": {},
   "source": [
    "# Source injector"
   ]
  },
  {
   "cell_type": "markdown",
   "id": "c3cf1f63-9d4c-4922-9555-c6a33bdc6fc1",
   "metadata": {},
   "source": [
    "The \"source injector\" is a cosipy module that will generate mocked binned data based on the detector response and a source hypothesis (provided by the users). This should result in the same output as simulating the source using MEGAlib, but be much quicker. MEGAlib is only needed when the event-by-event data is required, or to create the detector response itself. \n",
    "\n",
    "The goal of this notebook is to get an idea how the source injector will work in practice. We need to take it from here to something that is user friendly and compatible with the rest of the modules."
   ]
  },
  {
   "cell_type": "markdown",
   "id": "12989d27-f8eb-4764-947f-e5197b13b3b5",
   "metadata": {},
   "source": [
    "First, let's load all dependecies:"
   ]
  },
  {
   "cell_type": "code",
   "execution_count": 1,
   "id": "1863fe19-1d2b-4d9d-aacc-6e1eba99b882",
   "metadata": {},
   "outputs": [
    {
     "data": {
      "text/html": [
       "<pre style=\"white-space:pre;overflow-x:auto;line-height:normal;font-family:Menlo,'DejaVu Sans Mono',consolas,'Courier New',monospace\"><span style=\"color: #00ff00; text-decoration-color: #00ff00\">16:14:44 </span><span style=\"color: #af5fd7; text-decoration-color: #af5fd7\">WARNING </span> <span style=\"color: #c6c6c6; text-decoration-color: #c6c6c6; font-weight: bold\"> The naima package is not available. Models that depend on it will not be         </span><a href=\"file:///Users/thomassiegert/.virtualenvs/cosipy/lib/python3.9/site-packages/astromodels/functions/functions_1D/functions.py\" target=\"_blank\"><span style=\"color: #7f7f7f; text-decoration-color: #7f7f7f\">functions.py</span></a><span style=\"color: #7f7f7f; text-decoration-color: #7f7f7f\">:</span><a href=\"file:///Users/thomassiegert/.virtualenvs/cosipy/lib/python3.9/site-packages/astromodels/functions/functions_1D/functions.py#48\" target=\"_blank\"><span style=\"color: #7f7f7f; text-decoration-color: #7f7f7f\">48</span></a>\n",
       "<span style=\"color: #00ff00; text-decoration-color: #00ff00\">         </span>         <span style=\"color: #c6c6c6; text-decoration-color: #c6c6c6; font-weight: bold\">available                                                                         </span><span style=\"color: #7f7f7f; text-decoration-color: #7f7f7f\">               </span>\n",
       "</pre>\n"
      ],
      "text/plain": [
       "\u001b[38;5;46m16:14:44\u001b[0m\u001b[38;5;46m \u001b[0m\u001b[38;5;134mWARNING \u001b[0m \u001b[1;38;5;251m The naima package is not available. Models that depend on it will not be        \u001b[0m\u001b[1;38;5;251m \u001b[0m\u001b]8;id=928783;file:///Users/thomassiegert/.virtualenvs/cosipy/lib/python3.9/site-packages/astromodels/functions/functions_1D/functions.py\u001b\\\u001b[2mfunctions.py\u001b[0m\u001b]8;;\u001b\\\u001b[2m:\u001b[0m\u001b]8;id=720320;file:///Users/thomassiegert/.virtualenvs/cosipy/lib/python3.9/site-packages/astromodels/functions/functions_1D/functions.py#48\u001b\\\u001b[2m48\u001b[0m\u001b]8;;\u001b\\\n",
       "\u001b[38;5;46m         \u001b[0m         \u001b[1;38;5;251mavailable                                                                        \u001b[0m\u001b[1;38;5;251m \u001b[0m\u001b[2m               \u001b[0m\n"
      ]
     },
     "metadata": {},
     "output_type": "display_data"
    },
    {
     "data": {
      "text/html": [
       "<pre style=\"white-space:pre;overflow-x:auto;line-height:normal;font-family:Menlo,'DejaVu Sans Mono',consolas,'Courier New',monospace\"><span style=\"color: #00ff00; text-decoration-color: #00ff00\">         </span><span style=\"color: #af5fd7; text-decoration-color: #af5fd7\">WARNING </span> <span style=\"color: #c6c6c6; text-decoration-color: #c6c6c6; font-weight: bold\"> The GSL library or the pygsl wrapper cannot be loaded. Models that depend on it  </span><a href=\"file:///Users/thomassiegert/.virtualenvs/cosipy/lib/python3.9/site-packages/astromodels/functions/functions_1D/functions.py\" target=\"_blank\"><span style=\"color: #7f7f7f; text-decoration-color: #7f7f7f\">functions.py</span></a><span style=\"color: #7f7f7f; text-decoration-color: #7f7f7f\">:</span><a href=\"file:///Users/thomassiegert/.virtualenvs/cosipy/lib/python3.9/site-packages/astromodels/functions/functions_1D/functions.py#69\" target=\"_blank\"><span style=\"color: #7f7f7f; text-decoration-color: #7f7f7f\">69</span></a>\n",
       "<span style=\"color: #00ff00; text-decoration-color: #00ff00\">         </span>         <span style=\"color: #c6c6c6; text-decoration-color: #c6c6c6; font-weight: bold\">will not be available.                                                            </span><span style=\"color: #7f7f7f; text-decoration-color: #7f7f7f\">               </span>\n",
       "</pre>\n"
      ],
      "text/plain": [
       "\u001b[38;5;46m        \u001b[0m\u001b[38;5;46m \u001b[0m\u001b[38;5;134mWARNING \u001b[0m \u001b[1;38;5;251m The GSL library or the pygsl wrapper cannot be loaded. Models that depend on it \u001b[0m\u001b[1;38;5;251m \u001b[0m\u001b]8;id=367225;file:///Users/thomassiegert/.virtualenvs/cosipy/lib/python3.9/site-packages/astromodels/functions/functions_1D/functions.py\u001b\\\u001b[2mfunctions.py\u001b[0m\u001b]8;;\u001b\\\u001b[2m:\u001b[0m\u001b]8;id=685736;file:///Users/thomassiegert/.virtualenvs/cosipy/lib/python3.9/site-packages/astromodels/functions/functions_1D/functions.py#69\u001b\\\u001b[2m69\u001b[0m\u001b]8;;\u001b\\\n",
       "\u001b[38;5;46m         \u001b[0m         \u001b[1;38;5;251mwill not be available.                                                           \u001b[0m\u001b[1;38;5;251m \u001b[0m\u001b[2m               \u001b[0m\n"
      ]
     },
     "metadata": {},
     "output_type": "display_data"
    },
    {
     "name": "stderr",
     "output_type": "stream",
     "text": [
      "/Users/thomassiegert/.virtualenvs/cosipy/lib/python3.9/site-packages/numba/core/decorators.py:262: NumbaDeprecationWarning: \u001b[1mnumba.generated_jit is deprecated. Please see the documentation at: https://numba.readthedocs.io/en/stable/reference/deprecation.html#deprecation-of-generated-jit for more information and advice on a suitable replacement.\u001b[0m\n",
      "  warnings.warn(msg, NumbaDeprecationWarning)\n"
     ]
    },
    {
     "data": {
      "text/html": [
       "<pre style=\"white-space:pre;overflow-x:auto;line-height:normal;font-family:Menlo,'DejaVu Sans Mono',consolas,'Courier New',monospace\"><span style=\"color: #00ff00; text-decoration-color: #00ff00\">16:14:45 </span><span style=\"color: #af5fd7; text-decoration-color: #af5fd7\">WARNING </span> <span style=\"color: #c6c6c6; text-decoration-color: #c6c6c6; font-weight: bold\"> The ebltable package is not available. Models that depend on it will not be     </span><a href=\"file:///Users/thomassiegert/.virtualenvs/cosipy/lib/python3.9/site-packages/astromodels/functions/functions_1D/absorption.py\" target=\"_blank\"><span style=\"color: #7f7f7f; text-decoration-color: #7f7f7f\">absorption.py</span></a><span style=\"color: #7f7f7f; text-decoration-color: #7f7f7f\">:</span><a href=\"file:///Users/thomassiegert/.virtualenvs/cosipy/lib/python3.9/site-packages/astromodels/functions/functions_1D/absorption.py#36\" target=\"_blank\"><span style=\"color: #7f7f7f; text-decoration-color: #7f7f7f\">36</span></a>\n",
       "<span style=\"color: #00ff00; text-decoration-color: #00ff00\">         </span>         <span style=\"color: #c6c6c6; text-decoration-color: #c6c6c6; font-weight: bold\">available                                                                        </span><span style=\"color: #7f7f7f; text-decoration-color: #7f7f7f\">                </span>\n",
       "</pre>\n"
      ],
      "text/plain": [
       "\u001b[38;5;46m16:14:45\u001b[0m\u001b[38;5;46m \u001b[0m\u001b[38;5;134mWARNING \u001b[0m \u001b[1;38;5;251m The ebltable package is not available. Models that depend on it will not be    \u001b[0m\u001b[1;38;5;251m \u001b[0m\u001b]8;id=270317;file:///Users/thomassiegert/.virtualenvs/cosipy/lib/python3.9/site-packages/astromodels/functions/functions_1D/absorption.py\u001b\\\u001b[2mabsorption.py\u001b[0m\u001b]8;;\u001b\\\u001b[2m:\u001b[0m\u001b]8;id=135787;file:///Users/thomassiegert/.virtualenvs/cosipy/lib/python3.9/site-packages/astromodels/functions/functions_1D/absorption.py#36\u001b\\\u001b[2m36\u001b[0m\u001b]8;;\u001b\\\n",
       "\u001b[38;5;46m         \u001b[0m         \u001b[1;38;5;251mavailable                                                                       \u001b[0m\u001b[1;38;5;251m \u001b[0m\u001b[2m                \u001b[0m\n"
      ]
     },
     "metadata": {},
     "output_type": "display_data"
    },
    {
     "data": {
      "text/html": [
       "<pre style=\"white-space:pre;overflow-x:auto;line-height:normal;font-family:Menlo,'DejaVu Sans Mono',consolas,'Courier New',monospace\"><span style=\"color: #00ff00; text-decoration-color: #00ff00\">         </span><span style=\"color: #af5fd7; text-decoration-color: #af5fd7\">WARNING </span> <span style=\"color: #c6c6c6; text-decoration-color: #c6c6c6; font-weight: bold\"> We have set the min_value of K to </span><span style=\"color: #c0c0c0; text-decoration-color: #c0c0c0; font-weight: bold\">1e-99</span><span style=\"color: #c6c6c6; text-decoration-color: #c6c6c6; font-weight: bold\"> because there was a postive transform   </span><a href=\"file:///Users/thomassiegert/.virtualenvs/cosipy/lib/python3.9/site-packages/astromodels/core/parameter.py\" target=\"_blank\"><span style=\"color: #7f7f7f; text-decoration-color: #7f7f7f\">parameter.py</span></a><span style=\"color: #7f7f7f; text-decoration-color: #7f7f7f\">:</span><a href=\"file:///Users/thomassiegert/.virtualenvs/cosipy/lib/python3.9/site-packages/astromodels/core/parameter.py#704\" target=\"_blank\"><span style=\"color: #7f7f7f; text-decoration-color: #7f7f7f\">704</span></a>\n",
       "</pre>\n"
      ],
      "text/plain": [
       "\u001b[38;5;46m        \u001b[0m\u001b[38;5;46m \u001b[0m\u001b[38;5;134mWARNING \u001b[0m \u001b[1;38;5;251m We have set the min_value of K to \u001b[0m\u001b[1;37m1e-99\u001b[0m\u001b[1;38;5;251m because there was a postive transform  \u001b[0m\u001b[1;38;5;251m \u001b[0m\u001b]8;id=798320;file:///Users/thomassiegert/.virtualenvs/cosipy/lib/python3.9/site-packages/astromodels/core/parameter.py\u001b\\\u001b[2mparameter.py\u001b[0m\u001b]8;;\u001b\\\u001b[2m:\u001b[0m\u001b]8;id=575920;file:///Users/thomassiegert/.virtualenvs/cosipy/lib/python3.9/site-packages/astromodels/core/parameter.py#704\u001b\\\u001b[2m704\u001b[0m\u001b]8;;\u001b\\\n"
      ]
     },
     "metadata": {},
     "output_type": "display_data"
    },
    {
     "data": {
      "text/html": [
       "<pre style=\"white-space:pre;overflow-x:auto;line-height:normal;font-family:Menlo,'DejaVu Sans Mono',consolas,'Courier New',monospace\"><span style=\"color: #00ff00; text-decoration-color: #00ff00\">         </span><span style=\"color: #af5fd7; text-decoration-color: #af5fd7\">WARNING </span> <span style=\"color: #c6c6c6; text-decoration-color: #c6c6c6; font-weight: bold\"> We have set the min_value of K to </span><span style=\"color: #c0c0c0; text-decoration-color: #c0c0c0; font-weight: bold\">1e-99</span><span style=\"color: #c6c6c6; text-decoration-color: #c6c6c6; font-weight: bold\"> because there was a postive transform   </span><a href=\"file:///Users/thomassiegert/.virtualenvs/cosipy/lib/python3.9/site-packages/astromodels/core/parameter.py\" target=\"_blank\"><span style=\"color: #7f7f7f; text-decoration-color: #7f7f7f\">parameter.py</span></a><span style=\"color: #7f7f7f; text-decoration-color: #7f7f7f\">:</span><a href=\"file:///Users/thomassiegert/.virtualenvs/cosipy/lib/python3.9/site-packages/astromodels/core/parameter.py#704\" target=\"_blank\"><span style=\"color: #7f7f7f; text-decoration-color: #7f7f7f\">704</span></a>\n",
       "</pre>\n"
      ],
      "text/plain": [
       "\u001b[38;5;46m        \u001b[0m\u001b[38;5;46m \u001b[0m\u001b[38;5;134mWARNING \u001b[0m \u001b[1;38;5;251m We have set the min_value of K to \u001b[0m\u001b[1;37m1e-99\u001b[0m\u001b[1;38;5;251m because there was a postive transform  \u001b[0m\u001b[1;38;5;251m \u001b[0m\u001b]8;id=487302;file:///Users/thomassiegert/.virtualenvs/cosipy/lib/python3.9/site-packages/astromodels/core/parameter.py\u001b\\\u001b[2mparameter.py\u001b[0m\u001b]8;;\u001b\\\u001b[2m:\u001b[0m\u001b]8;id=443077;file:///Users/thomassiegert/.virtualenvs/cosipy/lib/python3.9/site-packages/astromodels/core/parameter.py#704\u001b\\\u001b[2m704\u001b[0m\u001b]8;;\u001b\\\n"
      ]
     },
     "metadata": {},
     "output_type": "display_data"
    },
    {
     "data": {
      "text/html": [
       "<pre style=\"white-space:pre;overflow-x:auto;line-height:normal;font-family:Menlo,'DejaVu Sans Mono',consolas,'Courier New',monospace\"><span style=\"color: #00ff00; text-decoration-color: #00ff00\">         </span><span style=\"color: #af5fd7; text-decoration-color: #af5fd7\">WARNING </span> <span style=\"color: #c6c6c6; text-decoration-color: #c6c6c6; font-weight: bold\"> We have set the min_value of K to </span><span style=\"color: #c0c0c0; text-decoration-color: #c0c0c0; font-weight: bold\">1e-99</span><span style=\"color: #c6c6c6; text-decoration-color: #c6c6c6; font-weight: bold\"> because there was a postive transform   </span><a href=\"file:///Users/thomassiegert/.virtualenvs/cosipy/lib/python3.9/site-packages/astromodels/core/parameter.py\" target=\"_blank\"><span style=\"color: #7f7f7f; text-decoration-color: #7f7f7f\">parameter.py</span></a><span style=\"color: #7f7f7f; text-decoration-color: #7f7f7f\">:</span><a href=\"file:///Users/thomassiegert/.virtualenvs/cosipy/lib/python3.9/site-packages/astromodels/core/parameter.py#704\" target=\"_blank\"><span style=\"color: #7f7f7f; text-decoration-color: #7f7f7f\">704</span></a>\n",
       "</pre>\n"
      ],
      "text/plain": [
       "\u001b[38;5;46m        \u001b[0m\u001b[38;5;46m \u001b[0m\u001b[38;5;134mWARNING \u001b[0m \u001b[1;38;5;251m We have set the min_value of K to \u001b[0m\u001b[1;37m1e-99\u001b[0m\u001b[1;38;5;251m because there was a postive transform  \u001b[0m\u001b[1;38;5;251m \u001b[0m\u001b]8;id=180693;file:///Users/thomassiegert/.virtualenvs/cosipy/lib/python3.9/site-packages/astromodels/core/parameter.py\u001b\\\u001b[2mparameter.py\u001b[0m\u001b]8;;\u001b\\\u001b[2m:\u001b[0m\u001b]8;id=200087;file:///Users/thomassiegert/.virtualenvs/cosipy/lib/python3.9/site-packages/astromodels/core/parameter.py#704\u001b\\\u001b[2m704\u001b[0m\u001b]8;;\u001b\\\n"
      ]
     },
     "metadata": {},
     "output_type": "display_data"
    },
    {
     "data": {
      "text/html": [
       "<pre style=\"white-space:pre;overflow-x:auto;line-height:normal;font-family:Menlo,'DejaVu Sans Mono',consolas,'Courier New',monospace\"><span style=\"color: #00ff00; text-decoration-color: #00ff00\">         </span><span style=\"color: #af5fd7; text-decoration-color: #af5fd7\">WARNING </span> <span style=\"color: #c6c6c6; text-decoration-color: #c6c6c6; font-weight: bold\"> We have set the min_value of K to </span><span style=\"color: #c0c0c0; text-decoration-color: #c0c0c0; font-weight: bold\">1e-99</span><span style=\"color: #c6c6c6; text-decoration-color: #c6c6c6; font-weight: bold\"> because there was a postive transform   </span><a href=\"file:///Users/thomassiegert/.virtualenvs/cosipy/lib/python3.9/site-packages/astromodels/core/parameter.py\" target=\"_blank\"><span style=\"color: #7f7f7f; text-decoration-color: #7f7f7f\">parameter.py</span></a><span style=\"color: #7f7f7f; text-decoration-color: #7f7f7f\">:</span><a href=\"file:///Users/thomassiegert/.virtualenvs/cosipy/lib/python3.9/site-packages/astromodels/core/parameter.py#704\" target=\"_blank\"><span style=\"color: #7f7f7f; text-decoration-color: #7f7f7f\">704</span></a>\n",
       "</pre>\n"
      ],
      "text/plain": [
       "\u001b[38;5;46m        \u001b[0m\u001b[38;5;46m \u001b[0m\u001b[38;5;134mWARNING \u001b[0m \u001b[1;38;5;251m We have set the min_value of K to \u001b[0m\u001b[1;37m1e-99\u001b[0m\u001b[1;38;5;251m because there was a postive transform  \u001b[0m\u001b[1;38;5;251m \u001b[0m\u001b]8;id=842666;file:///Users/thomassiegert/.virtualenvs/cosipy/lib/python3.9/site-packages/astromodels/core/parameter.py\u001b\\\u001b[2mparameter.py\u001b[0m\u001b]8;;\u001b\\\u001b[2m:\u001b[0m\u001b]8;id=634849;file:///Users/thomassiegert/.virtualenvs/cosipy/lib/python3.9/site-packages/astromodels/core/parameter.py#704\u001b\\\u001b[2m704\u001b[0m\u001b]8;;\u001b\\\n"
      ]
     },
     "metadata": {},
     "output_type": "display_data"
    },
    {
     "data": {
      "text/html": [
       "<pre style=\"white-space:pre;overflow-x:auto;line-height:normal;font-family:Menlo,'DejaVu Sans Mono',consolas,'Courier New',monospace\"><span style=\"color: #00ff00; text-decoration-color: #00ff00\">         </span><span style=\"color: #af5fd7; text-decoration-color: #af5fd7\">WARNING </span> <span style=\"color: #c6c6c6; text-decoration-color: #c6c6c6; font-weight: bold\"> We have set the min_value of F to </span><span style=\"color: #c0c0c0; text-decoration-color: #c0c0c0; font-weight: bold\">1e-99</span><span style=\"color: #c6c6c6; text-decoration-color: #c6c6c6; font-weight: bold\"> because there was a postive transform   </span><a href=\"file:///Users/thomassiegert/.virtualenvs/cosipy/lib/python3.9/site-packages/astromodels/core/parameter.py\" target=\"_blank\"><span style=\"color: #7f7f7f; text-decoration-color: #7f7f7f\">parameter.py</span></a><span style=\"color: #7f7f7f; text-decoration-color: #7f7f7f\">:</span><a href=\"file:///Users/thomassiegert/.virtualenvs/cosipy/lib/python3.9/site-packages/astromodels/core/parameter.py#704\" target=\"_blank\"><span style=\"color: #7f7f7f; text-decoration-color: #7f7f7f\">704</span></a>\n",
       "</pre>\n"
      ],
      "text/plain": [
       "\u001b[38;5;46m        \u001b[0m\u001b[38;5;46m \u001b[0m\u001b[38;5;134mWARNING \u001b[0m \u001b[1;38;5;251m We have set the min_value of F to \u001b[0m\u001b[1;37m1e-99\u001b[0m\u001b[1;38;5;251m because there was a postive transform  \u001b[0m\u001b[1;38;5;251m \u001b[0m\u001b]8;id=687689;file:///Users/thomassiegert/.virtualenvs/cosipy/lib/python3.9/site-packages/astromodels/core/parameter.py\u001b\\\u001b[2mparameter.py\u001b[0m\u001b]8;;\u001b\\\u001b[2m:\u001b[0m\u001b]8;id=139954;file:///Users/thomassiegert/.virtualenvs/cosipy/lib/python3.9/site-packages/astromodels/core/parameter.py#704\u001b\\\u001b[2m704\u001b[0m\u001b]8;;\u001b\\\n"
      ]
     },
     "metadata": {},
     "output_type": "display_data"
    },
    {
     "data": {
      "text/html": [
       "<pre style=\"white-space:pre;overflow-x:auto;line-height:normal;font-family:Menlo,'DejaVu Sans Mono',consolas,'Courier New',monospace\"><span style=\"color: #00ff00; text-decoration-color: #00ff00\">         </span><span style=\"color: #af5fd7; text-decoration-color: #af5fd7\">WARNING </span> <span style=\"color: #c6c6c6; text-decoration-color: #c6c6c6; font-weight: bold\"> We have set the min_value of K to </span><span style=\"color: #c0c0c0; text-decoration-color: #c0c0c0; font-weight: bold\">1e-99</span><span style=\"color: #c6c6c6; text-decoration-color: #c6c6c6; font-weight: bold\"> because there was a postive transform   </span><a href=\"file:///Users/thomassiegert/.virtualenvs/cosipy/lib/python3.9/site-packages/astromodels/core/parameter.py\" target=\"_blank\"><span style=\"color: #7f7f7f; text-decoration-color: #7f7f7f\">parameter.py</span></a><span style=\"color: #7f7f7f; text-decoration-color: #7f7f7f\">:</span><a href=\"file:///Users/thomassiegert/.virtualenvs/cosipy/lib/python3.9/site-packages/astromodels/core/parameter.py#704\" target=\"_blank\"><span style=\"color: #7f7f7f; text-decoration-color: #7f7f7f\">704</span></a>\n",
       "</pre>\n"
      ],
      "text/plain": [
       "\u001b[38;5;46m        \u001b[0m\u001b[38;5;46m \u001b[0m\u001b[38;5;134mWARNING \u001b[0m \u001b[1;38;5;251m We have set the min_value of K to \u001b[0m\u001b[1;37m1e-99\u001b[0m\u001b[1;38;5;251m because there was a postive transform  \u001b[0m\u001b[1;38;5;251m \u001b[0m\u001b]8;id=351491;file:///Users/thomassiegert/.virtualenvs/cosipy/lib/python3.9/site-packages/astromodels/core/parameter.py\u001b\\\u001b[2mparameter.py\u001b[0m\u001b]8;;\u001b\\\u001b[2m:\u001b[0m\u001b]8;id=963954;file:///Users/thomassiegert/.virtualenvs/cosipy/lib/python3.9/site-packages/astromodels/core/parameter.py#704\u001b\\\u001b[2m704\u001b[0m\u001b]8;;\u001b\\\n"
      ]
     },
     "metadata": {},
     "output_type": "display_data"
    },
    {
     "name": "stderr",
     "output_type": "stream",
     "text": [
      "/Users/thomassiegert/.virtualenvs/cosipy/lib/python3.9/site-packages/numba/core/decorators.py:262: NumbaDeprecationWarning: \u001b[1mnumba.generated_jit is deprecated. Please see the documentation at: https://numba.readthedocs.io/en/stable/reference/deprecation.html#deprecation-of-generated-jit for more information and advice on a suitable replacement.\u001b[0m\n",
      "  warnings.warn(msg, NumbaDeprecationWarning)\n"
     ]
    },
    {
     "data": {
      "text/html": [
       "<pre style=\"white-space:pre;overflow-x:auto;line-height:normal;font-family:Menlo,'DejaVu Sans Mono',consolas,'Courier New',monospace\"><span style=\"color: #00ff00; text-decoration-color: #00ff00\">16:14:45 </span><span style=\"color: #00ffaf; text-decoration-color: #00ffaf\">INFO    </span> <span style=\"color: #c6c6c6; text-decoration-color: #c6c6c6; font-weight: bold\"> Starting 3ML!                                                                     </span><a href=\"file:///Users/thomassiegert/.virtualenvs/cosipy/lib/python3.9/site-packages/threeML/__init__.py\" target=\"_blank\"><span style=\"color: #7f7f7f; text-decoration-color: #7f7f7f\">__init__.py</span></a><span style=\"color: #7f7f7f; text-decoration-color: #7f7f7f\">:</span><a href=\"file:///Users/thomassiegert/.virtualenvs/cosipy/lib/python3.9/site-packages/threeML/__init__.py#35\" target=\"_blank\"><span style=\"color: #7f7f7f; text-decoration-color: #7f7f7f\">35</span></a>\n",
       "</pre>\n"
      ],
      "text/plain": [
       "\u001b[38;5;46m16:14:45\u001b[0m\u001b[38;5;46m \u001b[0m\u001b[38;5;49mINFO    \u001b[0m \u001b[1;38;5;251m Starting 3ML!                                                                    \u001b[0m\u001b[1;38;5;251m \u001b[0m\u001b]8;id=21808;file:///Users/thomassiegert/.virtualenvs/cosipy/lib/python3.9/site-packages/threeML/__init__.py\u001b\\\u001b[2m__init__.py\u001b[0m\u001b]8;;\u001b\\\u001b[2m:\u001b[0m\u001b]8;id=362740;file:///Users/thomassiegert/.virtualenvs/cosipy/lib/python3.9/site-packages/threeML/__init__.py#35\u001b\\\u001b[2m35\u001b[0m\u001b]8;;\u001b\\\n"
      ]
     },
     "metadata": {},
     "output_type": "display_data"
    },
    {
     "data": {
      "text/html": [
       "<pre style=\"white-space:pre;overflow-x:auto;line-height:normal;font-family:Menlo,'DejaVu Sans Mono',consolas,'Courier New',monospace\"><span style=\"color: #00ff00; text-decoration-color: #00ff00\">         </span><span style=\"color: #af5fd7; text-decoration-color: #af5fd7\">WARNING </span> <span style=\"color: #c6c6c6; text-decoration-color: #c6c6c6; font-weight: bold\"> WARNINGs here are </span><span style=\"color: #800000; text-decoration-color: #800000; font-weight: bold\">NOT</span><span style=\"color: #c6c6c6; text-decoration-color: #c6c6c6; font-weight: bold\"> errors                                                      </span><a href=\"file:///Users/thomassiegert/.virtualenvs/cosipy/lib/python3.9/site-packages/threeML/__init__.py\" target=\"_blank\"><span style=\"color: #7f7f7f; text-decoration-color: #7f7f7f\">__init__.py</span></a><span style=\"color: #7f7f7f; text-decoration-color: #7f7f7f\">:</span><a href=\"file:///Users/thomassiegert/.virtualenvs/cosipy/lib/python3.9/site-packages/threeML/__init__.py#36\" target=\"_blank\"><span style=\"color: #7f7f7f; text-decoration-color: #7f7f7f\">36</span></a>\n",
       "</pre>\n"
      ],
      "text/plain": [
       "\u001b[38;5;46m        \u001b[0m\u001b[38;5;46m \u001b[0m\u001b[38;5;134mWARNING \u001b[0m \u001b[1;38;5;251m WARNINGs here are \u001b[0m\u001b[1;31mNOT\u001b[0m\u001b[1;38;5;251m errors                                                     \u001b[0m\u001b[1;38;5;251m \u001b[0m\u001b]8;id=209449;file:///Users/thomassiegert/.virtualenvs/cosipy/lib/python3.9/site-packages/threeML/__init__.py\u001b\\\u001b[2m__init__.py\u001b[0m\u001b]8;;\u001b\\\u001b[2m:\u001b[0m\u001b]8;id=177219;file:///Users/thomassiegert/.virtualenvs/cosipy/lib/python3.9/site-packages/threeML/__init__.py#36\u001b\\\u001b[2m36\u001b[0m\u001b]8;;\u001b\\\n"
      ]
     },
     "metadata": {},
     "output_type": "display_data"
    },
    {
     "data": {
      "text/html": [
       "<pre style=\"white-space:pre;overflow-x:auto;line-height:normal;font-family:Menlo,'DejaVu Sans Mono',consolas,'Courier New',monospace\"><span style=\"color: #00ff00; text-decoration-color: #00ff00\">         </span><span style=\"color: #af5fd7; text-decoration-color: #af5fd7\">WARNING </span> <span style=\"color: #c6c6c6; text-decoration-color: #c6c6c6; font-weight: bold\"> but are inform you about optional packages that can be installed                  </span><a href=\"file:///Users/thomassiegert/.virtualenvs/cosipy/lib/python3.9/site-packages/threeML/__init__.py\" target=\"_blank\"><span style=\"color: #7f7f7f; text-decoration-color: #7f7f7f\">__init__.py</span></a><span style=\"color: #7f7f7f; text-decoration-color: #7f7f7f\">:</span><a href=\"file:///Users/thomassiegert/.virtualenvs/cosipy/lib/python3.9/site-packages/threeML/__init__.py#37\" target=\"_blank\"><span style=\"color: #7f7f7f; text-decoration-color: #7f7f7f\">37</span></a>\n",
       "</pre>\n"
      ],
      "text/plain": [
       "\u001b[38;5;46m        \u001b[0m\u001b[38;5;46m \u001b[0m\u001b[38;5;134mWARNING \u001b[0m \u001b[1;38;5;251m but are inform you about optional packages that can be installed                 \u001b[0m\u001b[1;38;5;251m \u001b[0m\u001b]8;id=381889;file:///Users/thomassiegert/.virtualenvs/cosipy/lib/python3.9/site-packages/threeML/__init__.py\u001b\\\u001b[2m__init__.py\u001b[0m\u001b]8;;\u001b\\\u001b[2m:\u001b[0m\u001b]8;id=957768;file:///Users/thomassiegert/.virtualenvs/cosipy/lib/python3.9/site-packages/threeML/__init__.py#37\u001b\\\u001b[2m37\u001b[0m\u001b]8;;\u001b\\\n"
      ]
     },
     "metadata": {},
     "output_type": "display_data"
    },
    {
     "data": {
      "text/html": [
       "<pre style=\"white-space:pre;overflow-x:auto;line-height:normal;font-family:Menlo,'DejaVu Sans Mono',consolas,'Courier New',monospace\"><span style=\"color: #00ff00; text-decoration-color: #00ff00\">         </span><span style=\"color: #af5fd7; text-decoration-color: #af5fd7\">WARNING </span> <span style=\"color: #c6c6c6; text-decoration-color: #c6c6c6; font-weight: bold\"> </span><span style=\"color: #800000; text-decoration-color: #800000; font-weight: bold\"> to disable these messages, turn off start_warning in your config file</span><span style=\"color: #c6c6c6; text-decoration-color: #c6c6c6; font-weight: bold\">            </span><a href=\"file:///Users/thomassiegert/.virtualenvs/cosipy/lib/python3.9/site-packages/threeML/__init__.py\" target=\"_blank\"><span style=\"color: #7f7f7f; text-decoration-color: #7f7f7f\">__init__.py</span></a><span style=\"color: #7f7f7f; text-decoration-color: #7f7f7f\">:</span><a href=\"file:///Users/thomassiegert/.virtualenvs/cosipy/lib/python3.9/site-packages/threeML/__init__.py#40\" target=\"_blank\"><span style=\"color: #7f7f7f; text-decoration-color: #7f7f7f\">40</span></a>\n",
       "</pre>\n"
      ],
      "text/plain": [
       "\u001b[38;5;46m        \u001b[0m\u001b[38;5;46m \u001b[0m\u001b[38;5;134mWARNING \u001b[0m \u001b[1;38;5;251m \u001b[0m\u001b[1;31m to disable these messages, turn off start_warning in your config file\u001b[0m\u001b[1;38;5;251m           \u001b[0m\u001b[1;38;5;251m \u001b[0m\u001b]8;id=267245;file:///Users/thomassiegert/.virtualenvs/cosipy/lib/python3.9/site-packages/threeML/__init__.py\u001b\\\u001b[2m__init__.py\u001b[0m\u001b]8;;\u001b\\\u001b[2m:\u001b[0m\u001b]8;id=716175;file:///Users/thomassiegert/.virtualenvs/cosipy/lib/python3.9/site-packages/threeML/__init__.py#40\u001b\\\u001b[2m40\u001b[0m\u001b]8;;\u001b\\\n"
      ]
     },
     "metadata": {},
     "output_type": "display_data"
    },
    {
     "data": {
      "text/html": [
       "<pre style=\"white-space:pre;overflow-x:auto;line-height:normal;font-family:Menlo,'DejaVu Sans Mono',consolas,'Courier New',monospace\"><span style=\"color: #00ff00; text-decoration-color: #00ff00\">         </span><span style=\"color: #af5fd7; text-decoration-color: #af5fd7\">WARNING </span> <span style=\"color: #c6c6c6; text-decoration-color: #c6c6c6; font-weight: bold\"> ROOT minimizer not available                                                </span><a href=\"file:///Users/thomassiegert/.virtualenvs/cosipy/lib/python3.9/site-packages/threeML/minimizer/minimization.py\" target=\"_blank\"><span style=\"color: #7f7f7f; text-decoration-color: #7f7f7f\">minimization.py</span></a><span style=\"color: #7f7f7f; text-decoration-color: #7f7f7f\">:</span><a href=\"file:///Users/thomassiegert/.virtualenvs/cosipy/lib/python3.9/site-packages/threeML/minimizer/minimization.py#1345\" target=\"_blank\"><span style=\"color: #7f7f7f; text-decoration-color: #7f7f7f\">1345</span></a>\n",
       "</pre>\n"
      ],
      "text/plain": [
       "\u001b[38;5;46m        \u001b[0m\u001b[38;5;46m \u001b[0m\u001b[38;5;134mWARNING \u001b[0m \u001b[1;38;5;251m ROOT minimizer not available                                               \u001b[0m\u001b[1;38;5;251m \u001b[0m\u001b]8;id=546530;file:///Users/thomassiegert/.virtualenvs/cosipy/lib/python3.9/site-packages/threeML/minimizer/minimization.py\u001b\\\u001b[2mminimization.py\u001b[0m\u001b]8;;\u001b\\\u001b[2m:\u001b[0m\u001b]8;id=587494;file:///Users/thomassiegert/.virtualenvs/cosipy/lib/python3.9/site-packages/threeML/minimizer/minimization.py#1345\u001b\\\u001b[2m1345\u001b[0m\u001b]8;;\u001b\\\n"
      ]
     },
     "metadata": {},
     "output_type": "display_data"
    },
    {
     "data": {
      "text/html": [
       "<pre style=\"white-space:pre;overflow-x:auto;line-height:normal;font-family:Menlo,'DejaVu Sans Mono',consolas,'Courier New',monospace\"><span style=\"color: #00ff00; text-decoration-color: #00ff00\">         </span><span style=\"color: #af5fd7; text-decoration-color: #af5fd7\">WARNING </span> <span style=\"color: #c6c6c6; text-decoration-color: #c6c6c6; font-weight: bold\"> Multinest minimizer not available                                           </span><a href=\"file:///Users/thomassiegert/.virtualenvs/cosipy/lib/python3.9/site-packages/threeML/minimizer/minimization.py\" target=\"_blank\"><span style=\"color: #7f7f7f; text-decoration-color: #7f7f7f\">minimization.py</span></a><span style=\"color: #7f7f7f; text-decoration-color: #7f7f7f\">:</span><a href=\"file:///Users/thomassiegert/.virtualenvs/cosipy/lib/python3.9/site-packages/threeML/minimizer/minimization.py#1357\" target=\"_blank\"><span style=\"color: #7f7f7f; text-decoration-color: #7f7f7f\">1357</span></a>\n",
       "</pre>\n"
      ],
      "text/plain": [
       "\u001b[38;5;46m        \u001b[0m\u001b[38;5;46m \u001b[0m\u001b[38;5;134mWARNING \u001b[0m \u001b[1;38;5;251m Multinest minimizer not available                                          \u001b[0m\u001b[1;38;5;251m \u001b[0m\u001b]8;id=836200;file:///Users/thomassiegert/.virtualenvs/cosipy/lib/python3.9/site-packages/threeML/minimizer/minimization.py\u001b\\\u001b[2mminimization.py\u001b[0m\u001b]8;;\u001b\\\u001b[2m:\u001b[0m\u001b]8;id=660268;file:///Users/thomassiegert/.virtualenvs/cosipy/lib/python3.9/site-packages/threeML/minimizer/minimization.py#1357\u001b\\\u001b[2m1357\u001b[0m\u001b]8;;\u001b\\\n"
      ]
     },
     "metadata": {},
     "output_type": "display_data"
    },
    {
     "data": {
      "text/html": [
       "<pre style=\"white-space:pre;overflow-x:auto;line-height:normal;font-family:Menlo,'DejaVu Sans Mono',consolas,'Courier New',monospace\"><span style=\"color: #00ff00; text-decoration-color: #00ff00\">         </span><span style=\"color: #af5fd7; text-decoration-color: #af5fd7\">WARNING </span> <span style=\"color: #c6c6c6; text-decoration-color: #c6c6c6; font-weight: bold\"> PyGMO is not available                                                      </span><a href=\"file:///Users/thomassiegert/.virtualenvs/cosipy/lib/python3.9/site-packages/threeML/minimizer/minimization.py\" target=\"_blank\"><span style=\"color: #7f7f7f; text-decoration-color: #7f7f7f\">minimization.py</span></a><span style=\"color: #7f7f7f; text-decoration-color: #7f7f7f\">:</span><a href=\"file:///Users/thomassiegert/.virtualenvs/cosipy/lib/python3.9/site-packages/threeML/minimizer/minimization.py#1369\" target=\"_blank\"><span style=\"color: #7f7f7f; text-decoration-color: #7f7f7f\">1369</span></a>\n",
       "</pre>\n"
      ],
      "text/plain": [
       "\u001b[38;5;46m        \u001b[0m\u001b[38;5;46m \u001b[0m\u001b[38;5;134mWARNING \u001b[0m \u001b[1;38;5;251m PyGMO is not available                                                     \u001b[0m\u001b[1;38;5;251m \u001b[0m\u001b]8;id=262394;file:///Users/thomassiegert/.virtualenvs/cosipy/lib/python3.9/site-packages/threeML/minimizer/minimization.py\u001b\\\u001b[2mminimization.py\u001b[0m\u001b]8;;\u001b\\\u001b[2m:\u001b[0m\u001b]8;id=711755;file:///Users/thomassiegert/.virtualenvs/cosipy/lib/python3.9/site-packages/threeML/minimizer/minimization.py#1369\u001b\\\u001b[2m1369\u001b[0m\u001b]8;;\u001b\\\n"
      ]
     },
     "metadata": {},
     "output_type": "display_data"
    },
    {
     "data": {
      "text/html": [
       "<pre style=\"white-space:pre;overflow-x:auto;line-height:normal;font-family:Menlo,'DejaVu Sans Mono',consolas,'Courier New',monospace\"><span style=\"color: #00ff00; text-decoration-color: #00ff00\">         </span><span style=\"color: #af5fd7; text-decoration-color: #af5fd7\">WARNING </span> <span style=\"color: #c6c6c6; text-decoration-color: #c6c6c6; font-weight: bold\"> The cthreeML package is not installed. You will not be able to use plugins which  </span><a href=\"file:///Users/thomassiegert/.virtualenvs/cosipy/lib/python3.9/site-packages/threeML/__init__.py\" target=\"_blank\"><span style=\"color: #7f7f7f; text-decoration-color: #7f7f7f\">__init__.py</span></a><span style=\"color: #7f7f7f; text-decoration-color: #7f7f7f\">:</span><a href=\"file:///Users/thomassiegert/.virtualenvs/cosipy/lib/python3.9/site-packages/threeML/__init__.py#94\" target=\"_blank\"><span style=\"color: #7f7f7f; text-decoration-color: #7f7f7f\">94</span></a>\n",
       "<span style=\"color: #00ff00; text-decoration-color: #00ff00\">         </span>         <span style=\"color: #c6c6c6; text-decoration-color: #c6c6c6; font-weight: bold\">require the C/C++ interface (currently HAWC)                                       </span><span style=\"color: #7f7f7f; text-decoration-color: #7f7f7f\">              </span>\n",
       "</pre>\n"
      ],
      "text/plain": [
       "\u001b[38;5;46m        \u001b[0m\u001b[38;5;46m \u001b[0m\u001b[38;5;134mWARNING \u001b[0m \u001b[1;38;5;251m The cthreeML package is not installed. You will not be able to use plugins which \u001b[0m\u001b[1;38;5;251m \u001b[0m\u001b]8;id=895505;file:///Users/thomassiegert/.virtualenvs/cosipy/lib/python3.9/site-packages/threeML/__init__.py\u001b\\\u001b[2m__init__.py\u001b[0m\u001b]8;;\u001b\\\u001b[2m:\u001b[0m\u001b]8;id=501476;file:///Users/thomassiegert/.virtualenvs/cosipy/lib/python3.9/site-packages/threeML/__init__.py#94\u001b\\\u001b[2m94\u001b[0m\u001b]8;;\u001b\\\n",
       "\u001b[38;5;46m         \u001b[0m         \u001b[1;38;5;251mrequire the C/C++ interface \u001b[0m\u001b[1;38;5;251m(\u001b[0m\u001b[1;38;5;251mcurrently HAWC\u001b[0m\u001b[1;38;5;251m)\u001b[0m\u001b[1;38;5;251m                                      \u001b[0m\u001b[1;38;5;251m \u001b[0m\u001b[2m              \u001b[0m\n"
      ]
     },
     "metadata": {},
     "output_type": "display_data"
    },
    {
     "data": {
      "text/html": [
       "<pre style=\"white-space:pre;overflow-x:auto;line-height:normal;font-family:Menlo,'DejaVu Sans Mono',consolas,'Courier New',monospace\"><span style=\"color: #00ff00; text-decoration-color: #00ff00\">         </span><span style=\"color: #af5fd7; text-decoration-color: #af5fd7\">WARNING </span> <span style=\"color: #c6c6c6; text-decoration-color: #c6c6c6; font-weight: bold\"> Could not import plugin HAWCLike.py. Do you have the relative instrument         </span><a href=\"file:///Users/thomassiegert/.virtualenvs/cosipy/lib/python3.9/site-packages/threeML/__init__.py\" target=\"_blank\"><span style=\"color: #7f7f7f; text-decoration-color: #7f7f7f\">__init__.py</span></a><span style=\"color: #7f7f7f; text-decoration-color: #7f7f7f\">:</span><a href=\"file:///Users/thomassiegert/.virtualenvs/cosipy/lib/python3.9/site-packages/threeML/__init__.py#144\" target=\"_blank\"><span style=\"color: #7f7f7f; text-decoration-color: #7f7f7f\">144</span></a>\n",
       "<span style=\"color: #00ff00; text-decoration-color: #00ff00\">         </span>         <span style=\"color: #c6c6c6; text-decoration-color: #c6c6c6; font-weight: bold\">software installed and configured?                                                </span><span style=\"color: #7f7f7f; text-decoration-color: #7f7f7f\">               </span>\n",
       "</pre>\n"
      ],
      "text/plain": [
       "\u001b[38;5;46m        \u001b[0m\u001b[38;5;46m \u001b[0m\u001b[38;5;134mWARNING \u001b[0m \u001b[1;38;5;251m Could not import plugin HAWCLike.py. Do you have the relative instrument        \u001b[0m\u001b[1;38;5;251m \u001b[0m\u001b]8;id=555226;file:///Users/thomassiegert/.virtualenvs/cosipy/lib/python3.9/site-packages/threeML/__init__.py\u001b\\\u001b[2m__init__.py\u001b[0m\u001b]8;;\u001b\\\u001b[2m:\u001b[0m\u001b]8;id=712719;file:///Users/thomassiegert/.virtualenvs/cosipy/lib/python3.9/site-packages/threeML/__init__.py#144\u001b\\\u001b[2m144\u001b[0m\u001b]8;;\u001b\\\n",
       "\u001b[38;5;46m         \u001b[0m         \u001b[1;38;5;251msoftware installed and configured?                                               \u001b[0m\u001b[1;38;5;251m \u001b[0m\u001b[2m               \u001b[0m\n"
      ]
     },
     "metadata": {},
     "output_type": "display_data"
    },
    {
     "data": {
      "text/html": [
       "<pre style=\"white-space:pre;overflow-x:auto;line-height:normal;font-family:Menlo,'DejaVu Sans Mono',consolas,'Courier New',monospace\"><span style=\"color: #00ff00; text-decoration-color: #00ff00\">         </span><span style=\"color: #af5fd7; text-decoration-color: #af5fd7\">WARNING </span> <span style=\"color: #c6c6c6; text-decoration-color: #c6c6c6; font-weight: bold\"> Could not import plugin FermiLATLike.py. Do you have the relative instrument     </span><a href=\"file:///Users/thomassiegert/.virtualenvs/cosipy/lib/python3.9/site-packages/threeML/__init__.py\" target=\"_blank\"><span style=\"color: #7f7f7f; text-decoration-color: #7f7f7f\">__init__.py</span></a><span style=\"color: #7f7f7f; text-decoration-color: #7f7f7f\">:</span><a href=\"file:///Users/thomassiegert/.virtualenvs/cosipy/lib/python3.9/site-packages/threeML/__init__.py#144\" target=\"_blank\"><span style=\"color: #7f7f7f; text-decoration-color: #7f7f7f\">144</span></a>\n",
       "<span style=\"color: #00ff00; text-decoration-color: #00ff00\">         </span>         <span style=\"color: #c6c6c6; text-decoration-color: #c6c6c6; font-weight: bold\">software installed and configured?                                                </span><span style=\"color: #7f7f7f; text-decoration-color: #7f7f7f\">               </span>\n",
       "</pre>\n"
      ],
      "text/plain": [
       "\u001b[38;5;46m        \u001b[0m\u001b[38;5;46m \u001b[0m\u001b[38;5;134mWARNING \u001b[0m \u001b[1;38;5;251m Could not import plugin FermiLATLike.py. Do you have the relative instrument    \u001b[0m\u001b[1;38;5;251m \u001b[0m\u001b]8;id=484813;file:///Users/thomassiegert/.virtualenvs/cosipy/lib/python3.9/site-packages/threeML/__init__.py\u001b\\\u001b[2m__init__.py\u001b[0m\u001b]8;;\u001b\\\u001b[2m:\u001b[0m\u001b]8;id=984403;file:///Users/thomassiegert/.virtualenvs/cosipy/lib/python3.9/site-packages/threeML/__init__.py#144\u001b\\\u001b[2m144\u001b[0m\u001b]8;;\u001b\\\n",
       "\u001b[38;5;46m         \u001b[0m         \u001b[1;38;5;251msoftware installed and configured?                                               \u001b[0m\u001b[1;38;5;251m \u001b[0m\u001b[2m               \u001b[0m\n"
      ]
     },
     "metadata": {},
     "output_type": "display_data"
    },
    {
     "data": {
      "text/html": [
       "<pre style=\"white-space:pre;overflow-x:auto;line-height:normal;font-family:Menlo,'DejaVu Sans Mono',consolas,'Courier New',monospace\"><span style=\"color: #00ff00; text-decoration-color: #00ff00\">16:14:46 </span><span style=\"color: #af5fd7; text-decoration-color: #af5fd7\">WARNING </span> <span style=\"color: #c6c6c6; text-decoration-color: #c6c6c6; font-weight: bold\"> No fermitools installed                                              </span><a href=\"file:///Users/thomassiegert/.virtualenvs/cosipy/lib/python3.9/site-packages/threeML/utils/data_builders/fermi/lat_transient_builder.py\" target=\"_blank\"><span style=\"color: #7f7f7f; text-decoration-color: #7f7f7f\">lat_transient_builder.py</span></a><span style=\"color: #7f7f7f; text-decoration-color: #7f7f7f\">:</span><a href=\"file:///Users/thomassiegert/.virtualenvs/cosipy/lib/python3.9/site-packages/threeML/utils/data_builders/fermi/lat_transient_builder.py#44\" target=\"_blank\"><span style=\"color: #7f7f7f; text-decoration-color: #7f7f7f\">44</span></a>\n",
       "</pre>\n"
      ],
      "text/plain": [
       "\u001b[38;5;46m16:14:46\u001b[0m\u001b[38;5;46m \u001b[0m\u001b[38;5;134mWARNING \u001b[0m \u001b[1;38;5;251m No fermitools installed                                             \u001b[0m\u001b[1;38;5;251m \u001b[0m\u001b]8;id=856200;file:///Users/thomassiegert/.virtualenvs/cosipy/lib/python3.9/site-packages/threeML/utils/data_builders/fermi/lat_transient_builder.py\u001b\\\u001b[2mlat_transient_builder.py\u001b[0m\u001b]8;;\u001b\\\u001b[2m:\u001b[0m\u001b]8;id=864265;file:///Users/thomassiegert/.virtualenvs/cosipy/lib/python3.9/site-packages/threeML/utils/data_builders/fermi/lat_transient_builder.py#44\u001b\\\u001b[2m44\u001b[0m\u001b]8;;\u001b\\\n"
      ]
     },
     "metadata": {},
     "output_type": "display_data"
    },
    {
     "data": {
      "text/html": [
       "<pre style=\"white-space:pre;overflow-x:auto;line-height:normal;font-family:Menlo,'DejaVu Sans Mono',consolas,'Courier New',monospace\"><span style=\"color: #00ff00; text-decoration-color: #00ff00\">16:14:46 </span><span style=\"color: #af5fd7; text-decoration-color: #af5fd7\">WARNING </span> <span style=\"color: #c6c6c6; text-decoration-color: #c6c6c6; font-weight: bold\"> Env. variable OMP_NUM_THREADS is not set. Please set it to </span><span style=\"color: #c0c0c0; text-decoration-color: #c0c0c0; font-weight: bold\">1</span><span style=\"color: #c6c6c6; text-decoration-color: #c6c6c6; font-weight: bold\"> for optimal         </span><a href=\"file:///Users/thomassiegert/.virtualenvs/cosipy/lib/python3.9/site-packages/threeML/__init__.py\" target=\"_blank\"><span style=\"color: #7f7f7f; text-decoration-color: #7f7f7f\">__init__.py</span></a><span style=\"color: #7f7f7f; text-decoration-color: #7f7f7f\">:</span><a href=\"file:///Users/thomassiegert/.virtualenvs/cosipy/lib/python3.9/site-packages/threeML/__init__.py#387\" target=\"_blank\"><span style=\"color: #7f7f7f; text-decoration-color: #7f7f7f\">387</span></a>\n",
       "<span style=\"color: #00ff00; text-decoration-color: #00ff00\">         </span>         <span style=\"color: #c6c6c6; text-decoration-color: #c6c6c6; font-weight: bold\">performances in 3ML                                                               </span><span style=\"color: #7f7f7f; text-decoration-color: #7f7f7f\">               </span>\n",
       "</pre>\n"
      ],
      "text/plain": [
       "\u001b[38;5;46m16:14:46\u001b[0m\u001b[38;5;46m \u001b[0m\u001b[38;5;134mWARNING \u001b[0m \u001b[1;38;5;251m Env. variable OMP_NUM_THREADS is not set. Please set it to \u001b[0m\u001b[1;37m1\u001b[0m\u001b[1;38;5;251m for optimal        \u001b[0m\u001b[1;38;5;251m \u001b[0m\u001b]8;id=274895;file:///Users/thomassiegert/.virtualenvs/cosipy/lib/python3.9/site-packages/threeML/__init__.py\u001b\\\u001b[2m__init__.py\u001b[0m\u001b]8;;\u001b\\\u001b[2m:\u001b[0m\u001b]8;id=103135;file:///Users/thomassiegert/.virtualenvs/cosipy/lib/python3.9/site-packages/threeML/__init__.py#387\u001b\\\u001b[2m387\u001b[0m\u001b]8;;\u001b\\\n",
       "\u001b[38;5;46m         \u001b[0m         \u001b[1;38;5;251mperformances in 3ML                                                              \u001b[0m\u001b[1;38;5;251m \u001b[0m\u001b[2m               \u001b[0m\n"
      ]
     },
     "metadata": {},
     "output_type": "display_data"
    },
    {
     "data": {
      "text/html": [
       "<pre style=\"white-space:pre;overflow-x:auto;line-height:normal;font-family:Menlo,'DejaVu Sans Mono',consolas,'Courier New',monospace\"><span style=\"color: #00ff00; text-decoration-color: #00ff00\">         </span><span style=\"color: #af5fd7; text-decoration-color: #af5fd7\">WARNING </span> <span style=\"color: #c6c6c6; text-decoration-color: #c6c6c6; font-weight: bold\"> Env. variable MKL_NUM_THREADS is not set. Please set it to </span><span style=\"color: #c0c0c0; text-decoration-color: #c0c0c0; font-weight: bold\">1</span><span style=\"color: #c6c6c6; text-decoration-color: #c6c6c6; font-weight: bold\"> for optimal         </span><a href=\"file:///Users/thomassiegert/.virtualenvs/cosipy/lib/python3.9/site-packages/threeML/__init__.py\" target=\"_blank\"><span style=\"color: #7f7f7f; text-decoration-color: #7f7f7f\">__init__.py</span></a><span style=\"color: #7f7f7f; text-decoration-color: #7f7f7f\">:</span><a href=\"file:///Users/thomassiegert/.virtualenvs/cosipy/lib/python3.9/site-packages/threeML/__init__.py#387\" target=\"_blank\"><span style=\"color: #7f7f7f; text-decoration-color: #7f7f7f\">387</span></a>\n",
       "<span style=\"color: #00ff00; text-decoration-color: #00ff00\">         </span>         <span style=\"color: #c6c6c6; text-decoration-color: #c6c6c6; font-weight: bold\">performances in 3ML                                                               </span><span style=\"color: #7f7f7f; text-decoration-color: #7f7f7f\">               </span>\n",
       "</pre>\n"
      ],
      "text/plain": [
       "\u001b[38;5;46m        \u001b[0m\u001b[38;5;46m \u001b[0m\u001b[38;5;134mWARNING \u001b[0m \u001b[1;38;5;251m Env. variable MKL_NUM_THREADS is not set. Please set it to \u001b[0m\u001b[1;37m1\u001b[0m\u001b[1;38;5;251m for optimal        \u001b[0m\u001b[1;38;5;251m \u001b[0m\u001b]8;id=808420;file:///Users/thomassiegert/.virtualenvs/cosipy/lib/python3.9/site-packages/threeML/__init__.py\u001b\\\u001b[2m__init__.py\u001b[0m\u001b]8;;\u001b\\\u001b[2m:\u001b[0m\u001b]8;id=183276;file:///Users/thomassiegert/.virtualenvs/cosipy/lib/python3.9/site-packages/threeML/__init__.py#387\u001b\\\u001b[2m387\u001b[0m\u001b]8;;\u001b\\\n",
       "\u001b[38;5;46m         \u001b[0m         \u001b[1;38;5;251mperformances in 3ML                                                              \u001b[0m\u001b[1;38;5;251m \u001b[0m\u001b[2m               \u001b[0m\n"
      ]
     },
     "metadata": {},
     "output_type": "display_data"
    },
    {
     "data": {
      "text/html": [
       "<pre style=\"white-space:pre;overflow-x:auto;line-height:normal;font-family:Menlo,'DejaVu Sans Mono',consolas,'Courier New',monospace\"><span style=\"color: #00ff00; text-decoration-color: #00ff00\">         </span><span style=\"color: #af5fd7; text-decoration-color: #af5fd7\">WARNING </span> <span style=\"color: #c6c6c6; text-decoration-color: #c6c6c6; font-weight: bold\"> Env. variable NUMEXPR_NUM_THREADS is not set. Please set it to </span><span style=\"color: #c0c0c0; text-decoration-color: #c0c0c0; font-weight: bold\">1</span><span style=\"color: #c6c6c6; text-decoration-color: #c6c6c6; font-weight: bold\"> for optimal     </span><a href=\"file:///Users/thomassiegert/.virtualenvs/cosipy/lib/python3.9/site-packages/threeML/__init__.py\" target=\"_blank\"><span style=\"color: #7f7f7f; text-decoration-color: #7f7f7f\">__init__.py</span></a><span style=\"color: #7f7f7f; text-decoration-color: #7f7f7f\">:</span><a href=\"file:///Users/thomassiegert/.virtualenvs/cosipy/lib/python3.9/site-packages/threeML/__init__.py#387\" target=\"_blank\"><span style=\"color: #7f7f7f; text-decoration-color: #7f7f7f\">387</span></a>\n",
       "<span style=\"color: #00ff00; text-decoration-color: #00ff00\">         </span>         <span style=\"color: #c6c6c6; text-decoration-color: #c6c6c6; font-weight: bold\">performances in 3ML                                                               </span><span style=\"color: #7f7f7f; text-decoration-color: #7f7f7f\">               </span>\n",
       "</pre>\n"
      ],
      "text/plain": [
       "\u001b[38;5;46m        \u001b[0m\u001b[38;5;46m \u001b[0m\u001b[38;5;134mWARNING \u001b[0m \u001b[1;38;5;251m Env. variable NUMEXPR_NUM_THREADS is not set. Please set it to \u001b[0m\u001b[1;37m1\u001b[0m\u001b[1;38;5;251m for optimal    \u001b[0m\u001b[1;38;5;251m \u001b[0m\u001b]8;id=208938;file:///Users/thomassiegert/.virtualenvs/cosipy/lib/python3.9/site-packages/threeML/__init__.py\u001b\\\u001b[2m__init__.py\u001b[0m\u001b]8;;\u001b\\\u001b[2m:\u001b[0m\u001b]8;id=247579;file:///Users/thomassiegert/.virtualenvs/cosipy/lib/python3.9/site-packages/threeML/__init__.py#387\u001b\\\u001b[2m387\u001b[0m\u001b]8;;\u001b\\\n",
       "\u001b[38;5;46m         \u001b[0m         \u001b[1;38;5;251mperformances in 3ML                                                              \u001b[0m\u001b[1;38;5;251m \u001b[0m\u001b[2m               \u001b[0m\n"
      ]
     },
     "metadata": {},
     "output_type": "display_data"
    }
   ],
   "source": [
    "# We'll use histpy's Histogram and mhealpy's HealpixMap as the basis\n",
    "# develop cosipy. These object (or a derivative) will be passed around by \n",
    "# the different modules.\n",
    "from histpy import Histogram\n",
    "from mhealpy import HealpixMap\n",
    "\n",
    "# Needed for coordinate conversion.\n",
    "# cosipy uses astropy coordinates, with a custom\n",
    "# SpacecraftFrame (coordinate frame attached to COSI)\n",
    "from astropy.coordinates import SkyCoord\n",
    "from cosipy.coordinates import SpacecraftFrame, Attitude\n",
    "\n",
    "# cosipy uses astropy units\n",
    "import astropy.units as u\n",
    "\n",
    "#Other standard libraries\n",
    "import numpy as np\n",
    "\n",
    "import matplotlib.pyplot as plt"
   ]
  },
  {
   "cell_type": "markdown",
   "id": "e713e7ed-3956-403e-919d-5f0e1330d1ce",
   "metadata": {},
   "source": [
    "## Signal from a source"
   ]
  },
  {
   "cell_type": "markdown",
   "id": "ebe2b03c-e736-46e2-bcbb-bfb8d3fc3424",
   "metadata": {},
   "source": [
    "Here we obtain the expected number of counts for a given source hypothesis.\n",
    "\n",
    "We need the detector response, which can convert from physical values --e.g. source position, spectrum-- to detected counts. For this tutorial we'll use the detector response for an idealized detector, called the \"Compton sphere. The goals of this tutorial is not to get realistics simulations, but to understand the mechanics of of the code.. The response can be found in the sftp server at `/uploads/cosipy/test_data/FlatContinuumIsotropic.LowRes.binnedimaging.imagingresponse.area.nside8.cosipy.h5.zip` (remember to unzip it). "
   ]
  },
  {
   "cell_type": "code",
   "execution_count": 2,
   "id": "a5ff96a4",
   "metadata": {},
   "outputs": [],
   "source": [
    "response_path = \"/Users/thomassiegert/COSItools/cosipy/cosipy/test_data/FlatContinuumIsotropic.LowRes.binnedimaging.imagingresponse.area.nside8.cosipy.h5\"\n",
    "\n",
    "from cosipy.response import FullDetectorResponse\n",
    "\n",
    "response = FullDetectorResponse.open(response_path)"
   ]
  },
  {
   "cell_type": "markdown",
   "id": "49f2b36b-b919-4f8b-91ee-fb761590ad71",
   "metadata": {},
   "source": [
    "These is the source hypothesis. Let's inject a GRB-like event, lasting only 1s"
   ]
  },
  {
   "cell_type": "code",
   "execution_count": 3,
   "id": "7c583e3b-6779-4712-94ef-d42b54ecf69f",
   "metadata": {},
   "outputs": [],
   "source": [
    "duration = 1*u.s\n",
    "\n",
    "# The attitude defines the rotation of the spacecraft with respect\n",
    "# to the inertial ICRS frame. During flight this information will come from the\n",
    "# spacecraft telemetry data, but for now let's assume the spacecraft is aligned with the ICRS.\n",
    "coord = SkyCoord(ra = 20*u.deg, dec = 40*u.deg, \n",
    "                 frame = 'icrs', \n",
    "                 attitude = Attitude.identity())"
   ]
  },
  {
   "cell_type": "markdown",
   "id": "d27769bb-e830-43ab-a372-52500d71985f",
   "metadata": {},
   "source": [
    "The detector response contains the response as a function of the incoming direction in the spacecraft coordinates. As the spacecraft (SC) rotates, the fixed sky location (RA, Dec) of a given source will move in SC coordinate system, and we need to integrate all locations weighted by the time spent in that direction. These is encoded in the \"dwell time map\", which will be produced by the \"spacecraft orientation\" cosipy module, based on the telemetry information. For our case though, we can assume the GRB occurred at a fixed location because the duration is very short. \n",
    "\n",
    "Side note: at some point I was incorrectly calling the \"dwell time map\" a \"exposure map\", which might be confusing."
   ]
  },
  {
   "cell_type": "code",
   "execution_count": 4,
   "id": "28548161",
   "metadata": {},
   "outputs": [],
   "source": [
    "# The dwell time map has the same pixelation (base) as the detector response.\n",
    "# We start with an empty map\n",
    "dwell_time_map = HealpixMap(base = response, \n",
    "                            unit = u.s, \n",
    "                            coordsys = SpacecraftFrame())\n",
    "\n",
    "# Here we add duration of the GRB, at the location where it happend (in spacecraft coordinates)\n",
    "# We use interpolation to get a better result\n",
    "pixels, weights = dwell_time_map.get_interp_weights(coord)\n",
    "\n",
    "for p,w in zip(pixels, weights):\n",
    "    dwell_time_map[p] += w*duration\n",
    "    \n",
    "# Without interpolating, it would look like these. Give it a try.\n",
    "# pixel = dwell_time_map.ang2pix(coord)\n",
    "# dwell_time_map[pixel] += duration"
   ]
  },
  {
   "cell_type": "markdown",
   "id": "8b32b999-486b-4c05-b608-2df0028a58f9",
   "metadata": {},
   "source": [
    "This is how the dwell time map looks. The red dot shows the exact location of the GRB."
   ]
  },
  {
   "cell_type": "code",
   "execution_count": 5,
   "id": "718ff8f4",
   "metadata": {},
   "outputs": [
    {
     "data": {
      "text/plain": [
       "<matplotlib.collections.PathCollection at 0x142a38970>"
      ]
     },
     "execution_count": 5,
     "metadata": {},
     "output_type": "execute_result"
    },
    {
     "data": {
      "image/png": "[encoded data removed]",
      "text/plain": [
       "<Figure size 600x600 with 2 Axes>"
      ]
     },
     "metadata": {},
     "output_type": "display_data"
    }
   ],
   "source": [
    "_,ax = dwell_time_map.plot(coord = SpacecraftFrame(attitude = Attitude.identity()));\n",
    "\n",
    "ax.scatter(coord.ra, coord.dec, transform=ax.get_transform('world'), color = 'red')"
   ]
  },
  {
   "cell_type": "markdown",
   "id": "d532c332-d566-4787-8830-d42271c22442",
   "metadata": {},
   "source": [
    "The sum of all pixel in the dwell time map is simply the duration of the data that was integrated. In this case is just the duration of the GRB."
   ]
  },
  {
   "cell_type": "code",
   "execution_count": 6,
   "id": "6bbffb4e-853a-4925-8987-7cfd57d33029",
   "metadata": {},
   "outputs": [
    {
     "data": {
      "text/latex": [
       "$1 \\; \\mathrm{s}$"
      ],
      "text/plain": [
       "<Quantity 1. s>"
      ]
     },
     "execution_count": 6,
     "metadata": {},
     "output_type": "execute_result"
    }
   ],
   "source": [
    "sum(dwell_time_map)"
   ]
  },
  {
   "cell_type": "markdown",
   "id": "9c6baed9-14e7-48fc-84f5-af349de2b715",
   "metadata": {},
   "source": [
    "The detector response is then convolved with the dwell time map to get the point source response:"
   ]
  },
  {
   "cell_type": "code",
   "execution_count": 7,
   "id": "b2d58300-deae-4c26-9469-e1ac07fa8313",
   "metadata": {},
   "outputs": [],
   "source": [
    "psr = response.get_point_source_response(dwell_time_map)"
   ]
  },
  {
   "cell_type": "markdown",
   "id": "f817be35-5398-48b9-b088-d308195a302f",
   "metadata": {},
   "source": [
    "The point source response is still quite generic. We obtained the response for a give location and duration, but we still convolved this with a given spectral assumption:"
   ]
  },
  {
   "cell_type": "code",
   "execution_count": 8,
   "id": "3d93229f-7c8e-4c9a-a582-54cc73bf9eec",
   "metadata": {},
   "outputs": [],
   "source": [
    "from threeML import *\n",
    "from astropy.units import Quantity\n",
    "\n",
    "# This is not a very realistic spectrum, but help to illustrate the method.\n",
    "# You can play with other parameters. \n",
    "spectrum = Powerlaw(K = 1, index = -1.7)\n",
    "\"\"\"index = -1.7\n",
    "piv = 1 * u.keV\n",
    "K = 1e0 / u.cm / u.cm / u.s / u.keV\n",
    "spectrum.index.value = index\n",
    "spectrum.K.value = K.value\n",
    "spectrum.piv.value = piv.value \n",
    "spectrum.K.unit = K.unit\n",
    "spectrum.piv.unit = piv.unit\n",
    "\"\"\"    \n",
    "# We project into the only event parameters that we can measure in COSI\n",
    "signal = psr.get_expectation(spectrum).project(['Em', 'Phi', 'PsiChi'])"
   ]
  },
  {
   "cell_type": "markdown",
   "id": "7f6e60b5-65e4-4171-a8a7-e8e4f4d72008",
   "metadata": {},
   "source": [
    "The result `signal` is histogram that contains the expected counts in measured energy (`Em`) and the \"Compton Data Space\": Compton scatter angle (`Phi`) and direction (in SC coordinates) of the scattered photon in he (`PsiChi`). For reference, see the following figure from [this](https://arxiv.org/abs/2102.13158) paper. The only different is that here we are using spacecraft coordinate instead of galactic coordinates. ![](cds.png)"
   ]
  },
  {
   "cell_type": "markdown",
   "id": "9ea7ffcb-d555-4da0-913a-87c7087b60c0",
   "metadata": {},
   "source": [
    "The `signal` object is a 3D histogram. Note that the last axis, `PsiChi`, is actually a 2D axis encoding the coordinates in a sphere as pixels in a HEALPix grid. So, in a sense, it's really a 4D histogram."
   ]
  },
  {
   "cell_type": "code",
   "execution_count": 9,
   "id": "8d821639-d2c7-42a8-9f3b-d6ef53268356",
   "metadata": {},
   "outputs": [
    {
     "data": {
      "text/plain": [
       "array(['Em', 'Phi', 'PsiChi'], dtype='<U6')"
      ]
     },
     "execution_count": 9,
     "metadata": {},
     "output_type": "execute_result"
    }
   ],
   "source": [
    "signal.axes.labels"
   ]
  },
  {
   "cell_type": "markdown",
   "id": "503cd496-8485-423e-a7f0-1aaac6745487",
   "metadata": {},
   "source": [
    "Let's explore this simulated signal and see how it looks.\n",
    "\n",
    "First, we can get the measured energy distribution by projecting the histogram into the `Em`:"
   ]
  },
  {
   "cell_type": "code",
   "execution_count": 10,
   "id": "e6bf0e6b-ff96-4b30-9d11-c31e1e6d625f",
   "metadata": {},
   "outputs": [
    {
     "data": {
      "text/plain": [
       "(<Axes: xlabel='Em [keV]', ylabel='[cm2 keV s]'>,\n",
       " <ErrorbarContainer object of 3 artists>)"
      ]
     },
     "execution_count": 10,
     "metadata": {},
     "output_type": "execute_result"
    },
    {
     "data": {
      "image/png": "[encoded data removed]",
      "text/plain": [
       "<Figure size 640x480 with 1 Axes>"
      ]
     },
     "metadata": {},
     "output_type": "display_data"
    }
   ],
   "source": [
    "signal.project('Em').plot()"
   ]
  },
  {
   "cell_type": "markdown",
   "id": "05960a53-f5ee-41f0-a3d3-1cb41d141f64",
   "metadata": {},
   "source": [
    "This shape is a combination of the spectrum, the energy resolution, and the effective area of the detector as a function of energy.\n",
    "\n",
    "We can get the total number of events we expect from the GRB by summing over all bins:"
   ]
  },
  {
   "cell_type": "code",
   "execution_count": 11,
   "id": "08eb4fae-d2e7-4336-82ca-cf8b301a1252",
   "metadata": {},
   "outputs": [
    {
     "data": {
      "text/plain": [
       "698.1483813523819"
      ]
     },
     "execution_count": 11,
     "metadata": {},
     "output_type": "execute_result"
    }
   ],
   "source": [
    "np.sum(signal)"
   ]
  },
  {
   "cell_type": "markdown",
   "id": "aea9bc5f-3a6d-45ab-96ae-bd1d767f0df8",
   "metadata": {},
   "source": [
    "Now let's explore the CDS. It's easier to visualize if we take slices in energy and scatter angle. For reference, these are the bin edges:"
   ]
  },
  {
   "cell_type": "code",
   "execution_count": 12,
   "id": "7b7bc781-6100-4123-b805-d4c3742aff04",
   "metadata": {},
   "outputs": [
    {
     "data": {
      "text/latex": [
       "$[100,~200,~500,~1000,~2000,~5000] \\; \\mathrm{keV}$"
      ],
      "text/plain": [
       "<Quantity [ 100.,  200.,  500., 1000., 2000., 5000.] keV>"
      ]
     },
     "execution_count": 12,
     "metadata": {},
     "output_type": "execute_result"
    }
   ],
   "source": [
    "signal.axes['Em'].edges"
   ]
  },
  {
   "cell_type": "code",
   "execution_count": 13,
   "id": "1339c2c6-48b4-4ce0-9c6f-c33263b6bc03",
   "metadata": {},
   "outputs": [
    {
     "data": {
      "text/latex": [
       "$[0,~10,~20,~30,~40,~50,~60,~70,~80,~90,~100,~110,~120,~130,~140,~150,~160,~170,~180] \\; \\mathrm{{}^{\\circ}}$"
      ],
      "text/plain": [
       "<Quantity [  0.,  10.,  20.,  30.,  40.,  50.,  60.,  70.,  80.,  90.,\n",
       "           100., 110., 120., 130., 140., 150., 160., 170., 180.] deg>"
      ]
     },
     "execution_count": 13,
     "metadata": {},
     "output_type": "execute_result"
    }
   ],
   "source": [
    "signal.axes['Phi'].edges"
   ]
  },
  {
   "cell_type": "markdown",
   "id": "1d4b2946-6165-4d08-b045-d80f9292748a",
   "metadata": {},
   "source": [
    "This is the plot of the distribution of events within the energy range 1-2 MeV (bin 3) and scattered angles between 40-50deg (bin 4):"
   ]
  },
  {
   "cell_type": "code",
   "execution_count": 19,
   "id": "db0b2090-2ad3-4807-87bc-9269b214d68d",
   "metadata": {},
   "outputs": [
    {
     "ename": "TypeError",
     "evalue": "matplotlib.transforms.Bbox.from_bounds() argument after * must be an iterable, not int",
     "output_type": "error",
     "traceback": [
      "\u001b[0;31m---------------------------------------------------------------------------\u001b[0m",
      "\u001b[0;31mTypeError\u001b[0m                                 Traceback (most recent call last)",
      "Cell \u001b[0;32mIn[19], line 8\u001b[0m\n\u001b[1;32m      5\u001b[0m fig \u001b[38;5;241m=\u001b[39m plt\u001b[38;5;241m.\u001b[39mfigure(dpi \u001b[38;5;241m=\u001b[39m \u001b[38;5;241m150\u001b[39m)\n\u001b[1;32m      7\u001b[0m \u001b[38;5;66;03m# Try also other projections, e.g. projection = 'mollview'\u001b[39;00m\n\u001b[0;32m----> 8\u001b[0m ax \u001b[38;5;241m=\u001b[39m \u001b[43mfig\u001b[49m\u001b[38;5;241;43m.\u001b[39;49m\u001b[43madd_subplot\u001b[49m\u001b[43m(\u001b[49m\u001b[43mprojection\u001b[49m\u001b[43m \u001b[49m\u001b[38;5;241;43m=\u001b[39;49m\u001b[43m \u001b[49m\u001b[38;5;124;43m'\u001b[39;49m\u001b[38;5;124;43morthview\u001b[39;49m\u001b[38;5;124;43m'\u001b[39;49m\u001b[43m)\u001b[49m\n\u001b[1;32m     10\u001b[0m m_signal\u001b[38;5;241m.\u001b[39mplot(ax, coord \u001b[38;5;241m=\u001b[39m SpacecraftFrame(attitude \u001b[38;5;241m=\u001b[39m Attitude\u001b[38;5;241m.\u001b[39midentity()))\n\u001b[1;32m     12\u001b[0m \u001b[38;5;66;03m# Location of the source\u001b[39;00m\n",
      "File \u001b[0;32m~/.virtualenvs/cosipy/lib/python3.9/site-packages/matplotlib/figure.py:757\u001b[0m, in \u001b[0;36mFigureBase.add_subplot\u001b[0;34m(self, *args, **kwargs)\u001b[0m\n\u001b[1;32m    754\u001b[0m         args \u001b[38;5;241m=\u001b[39m \u001b[38;5;28mtuple\u001b[39m(\u001b[38;5;28mmap\u001b[39m(\u001b[38;5;28mint\u001b[39m, \u001b[38;5;28mstr\u001b[39m(args[\u001b[38;5;241m0\u001b[39m])))\n\u001b[1;32m    755\u001b[0m     projection_class, pkw \u001b[38;5;241m=\u001b[39m \u001b[38;5;28mself\u001b[39m\u001b[38;5;241m.\u001b[39m_process_projection_requirements(\n\u001b[1;32m    756\u001b[0m         \u001b[38;5;241m*\u001b[39margs, \u001b[38;5;241m*\u001b[39m\u001b[38;5;241m*\u001b[39mkwargs)\n\u001b[0;32m--> 757\u001b[0m     ax \u001b[38;5;241m=\u001b[39m \u001b[43mprojection_class\u001b[49m\u001b[43m(\u001b[49m\u001b[38;5;28;43mself\u001b[39;49m\u001b[43m,\u001b[49m\u001b[43m \u001b[49m\u001b[38;5;241;43m*\u001b[39;49m\u001b[43margs\u001b[49m\u001b[43m,\u001b[49m\u001b[43m \u001b[49m\u001b[38;5;241;43m*\u001b[39;49m\u001b[38;5;241;43m*\u001b[39;49m\u001b[43mpkw\u001b[49m\u001b[43m)\u001b[49m\n\u001b[1;32m    758\u001b[0m     key \u001b[38;5;241m=\u001b[39m (projection_class, pkw)\n\u001b[1;32m    759\u001b[0m \u001b[38;5;28;01mreturn\u001b[39;00m \u001b[38;5;28mself\u001b[39m\u001b[38;5;241m.\u001b[39m_add_axes_internal(ax, key)\n",
      "File \u001b[0;32m~/.virtualenvs/cosipy/lib/python3.9/site-packages/mhealpy/plot/axes.py:259\u001b[0m, in \u001b[0;36mOrthview.__init__\u001b[0;34m(self, *args, **kwargs)\u001b[0m\n\u001b[1;32m    257\u001b[0m \u001b[38;5;28;01mdef\u001b[39;00m \u001b[38;5;21m__init__\u001b[39m(\u001b[38;5;28mself\u001b[39m, \u001b[38;5;241m*\u001b[39margs, \u001b[38;5;241m*\u001b[39m\u001b[38;5;241m*\u001b[39mkwargs):\n\u001b[0;32m--> 259\u001b[0m     \u001b[38;5;28;43msuper\u001b[39;49m\u001b[43m(\u001b[49m\u001b[43m)\u001b[49m\u001b[38;5;241;43m.\u001b[39;49m\u001b[38;5;21;43m__init__\u001b[39;49m\u001b[43m(\u001b[49m\u001b[38;5;241;43m*\u001b[39;49m\u001b[43margs\u001b[49m\u001b[43m,\u001b[49m\n\u001b[1;32m    260\u001b[0m \u001b[43m                     \u001b[49m\u001b[43mframe_class\u001b[49m\u001b[43m \u001b[49m\u001b[38;5;241;43m=\u001b[39;49m\u001b[43m \u001b[49m\u001b[43mkwargs\u001b[49m\u001b[38;5;241;43m.\u001b[39;49m\u001b[43mpop\u001b[49m\u001b[43m(\u001b[49m\u001b[38;5;124;43m'\u001b[39;49m\u001b[38;5;124;43mframe_class\u001b[39;49m\u001b[38;5;124;43m'\u001b[39;49m\u001b[43m,\u001b[49m\u001b[43m \u001b[49m\u001b[43mEllipticalFrame\u001b[49m\u001b[43m)\u001b[49m\u001b[43m,\u001b[49m\n\u001b[1;32m    261\u001b[0m \u001b[43m                     \u001b[49m\u001b[38;5;241;43m*\u001b[39;49m\u001b[38;5;241;43m*\u001b[39;49m\u001b[43mkwargs\u001b[49m\u001b[43m)\u001b[49m\n",
      "File \u001b[0;32m~/.virtualenvs/cosipy/lib/python3.9/site-packages/mhealpy/plot/axes.py:41\u001b[0m, in \u001b[0;36mHealpyAxes.__init__\u001b[0;34m(self, fig, rect, coord, flip, rot, **kwargs)\u001b[0m\n\u001b[1;32m     24\u001b[0m \u001b[38;5;250m\u001b[39m\u001b[38;5;124;03m\"\"\"\u001b[39;00m\n\u001b[1;32m     25\u001b[0m \u001b[38;5;124;03mBase class for WCSAxes that behave similar to healpy's projections.\u001b[39;00m\n\u001b[1;32m     26\u001b[0m \n\u001b[0;32m   (...)\u001b[0m\n\u001b[1;32m     37\u001b[0m \u001b[38;5;124;03m        of angle psi around this direction is applied.\u001b[39;00m\n\u001b[1;32m     38\u001b[0m \u001b[38;5;124;03m\"\"\"\u001b[39;00m\n\u001b[1;32m     40\u001b[0m \u001b[38;5;66;03m# Get equivalent WCS FITS header\u001b[39;00m\n\u001b[0;32m---> 41\u001b[0m naxis1,naxis2 \u001b[38;5;241m=\u001b[39m \u001b[38;5;28;43mself\u001b[39;49m\u001b[38;5;241;43m.\u001b[39;49m\u001b[43m_get_naxis\u001b[49m\u001b[43m(\u001b[49m\u001b[43mfig\u001b[49m\u001b[43m,\u001b[49m\u001b[43m \u001b[49m\u001b[43mrect\u001b[49m\u001b[43m)\u001b[49m\n\u001b[1;32m     43\u001b[0m \u001b[38;5;28;01mif\u001b[39;00m \u001b[38;5;28mself\u001b[39m\u001b[38;5;241m.\u001b[39m_autoscale:\n\u001b[1;32m     44\u001b[0m     \u001b[38;5;66;03m# Gnom specifies the reosolution and the limits are adjusted based\u001b[39;00m\n\u001b[1;32m     45\u001b[0m     \u001b[38;5;66;03m# on the figure sizes\u001b[39;00m\n\u001b[1;32m     46\u001b[0m     \u001b[38;5;66;03m# For the others the limits are fixed and the resolution is adjusted\u001b[39;00m\n\u001b[1;32m     47\u001b[0m     \u001b[38;5;66;03m# by scaling a normalized appropiate resolution\u001b[39;00m\n\u001b[1;32m     48\u001b[0m     \u001b[38;5;28mself\u001b[39m\u001b[38;5;241m.\u001b[39m_cdelt \u001b[38;5;241m*\u001b[39m\u001b[38;5;241m=\u001b[39m \u001b[38;5;241m360\u001b[39m\u001b[38;5;241m/\u001b[39mnaxis1\n",
      "File \u001b[0;32m~/.virtualenvs/cosipy/lib/python3.9/site-packages/mhealpy/plot/axes.py:140\u001b[0m, in \u001b[0;36mHealpyAxes._get_naxis\u001b[0;34m(self, fig, rect)\u001b[0m\n\u001b[1;32m    133\u001b[0m \u001b[38;5;250m\u001b[39m\u001b[38;5;124;03m\"\"\"\u001b[39;00m\n\u001b[1;32m    134\u001b[0m \u001b[38;5;124;03mReturn approapiate NAXIS1 and NAXIS2 for a given figure and Bbox (or bounds)\u001b[39;00m\n\u001b[1;32m    135\u001b[0m \u001b[38;5;124;03m    \u001b[39;00m\n\u001b[1;32m    136\u001b[0m \u001b[38;5;124;03maspect = naxis2/naxis1\u001b[39;00m\n\u001b[1;32m    137\u001b[0m \u001b[38;5;124;03m\"\"\"\u001b[39;00m\n\u001b[1;32m    139\u001b[0m \u001b[38;5;28;01mif\u001b[39;00m \u001b[38;5;129;01mnot\u001b[39;00m \u001b[38;5;28misinstance\u001b[39m(rect, Bbox):\n\u001b[0;32m--> 140\u001b[0m     rect \u001b[38;5;241m=\u001b[39m \u001b[43mBbox\u001b[49m\u001b[38;5;241;43m.\u001b[39;49m\u001b[43mfrom_bounds\u001b[49m\u001b[43m(\u001b[49m\u001b[38;5;241;43m*\u001b[39;49m\u001b[43mrect\u001b[49m\u001b[43m)\u001b[49m\n\u001b[1;32m    142\u001b[0m naxis1 \u001b[38;5;241m=\u001b[39m fig\u001b[38;5;241m.\u001b[39mget_figwidth() \u001b[38;5;241m*\u001b[39m fig\u001b[38;5;241m.\u001b[39mdpi \u001b[38;5;241m*\u001b[39m rect\u001b[38;5;241m.\u001b[39mwidth\n\u001b[1;32m    143\u001b[0m naxis2 \u001b[38;5;241m=\u001b[39m fig\u001b[38;5;241m.\u001b[39mget_figheight() \u001b[38;5;241m*\u001b[39m fig\u001b[38;5;241m.\u001b[39mdpi \u001b[38;5;241m*\u001b[39m rect\u001b[38;5;241m.\u001b[39mheight\n",
      "\u001b[0;31mTypeError\u001b[0m: matplotlib.transforms.Bbox.from_bounds() argument after * must be an iterable, not int"
     ]
    },
    {
     "data": {
      "text/plain": [
       "<Figure size 960x720 with 0 Axes>"
      ]
     },
     "metadata": {},
     "output_type": "display_data"
    }
   ],
   "source": [
    "#Since `PsiChi` is encoded as pixel in a HEALPix grid, we need mhealpy to render it back to a sphere\n",
    "m_signal = HealpixMap(signal.slice[{'Em':3, 'Phi':4}].project('PsiChi').todense().contents,\n",
    "                      coordsys = SpacecraftFrame())\n",
    "\n",
    "fig = plt.figure(dpi = 150)\n",
    "\n",
    "# Try also other projections, e.g. projection = 'mollview'\n",
    "ax = fig.add_subplot(projection = 'orthview')\n",
    "\n",
    "m_signal.plot(ax, coord = SpacecraftFrame(attitude = Attitude.identity()))\n",
    "\n",
    "# Location of the source\n",
    "ax.scatter(coord.ra, coord.dec, transform=ax.get_transform('world'), color = 'red')"
   ]
  },
  {
   "cell_type": "markdown",
   "id": "290a9873-c011-4bbd-a2e5-3605f0a56931",
   "metadata": {},
   "source": [
    "This is a horizontal slice of the Compton cone shown in the figure above, spread by detector effects and the finite size of the `Em` and `Phi` bins. Try selecting different `Phi` bins to see how these circle grows or shrinks, and relate that to the CDS figure.\n",
    "\n",
    "You can also try selecting different energy bins. The opening of the cone in the CDS is geometrically constrained and does not depend on the energy. This circle becomes more blurry at different energies though, which is related to the energy resolution and the bin width."
   ]
  },
  {
   "cell_type": "markdown",
   "id": "79b32eb9-b8d4-49c1-9c38-52def6410278",
   "metadata": {},
   "source": [
    "## Getting a fake background"
   ]
  },
  {
   "cell_type": "markdown",
   "id": "b90c008e-40b3-46b0-a20d-fd3d85c7c58c",
   "metadata": {},
   "source": [
    "The background from Compton telescopes can be complex, and in general we need to either simulate all the different components with MEGAlib and/or use real data to constrain it. For the purpose of having a toy background that we can use to develop our algorithms, let's use the detector response to simulate an (unrealistic) isotropic gamma-ray background. The final source injector should use a background model as input instead.\n",
    "\n",
    "We'll repurpose the point source convolution by generating an effective dwell time map with the same value for all pixels. Since all pixels have the same area, this is simulating an isotropic distribution"
   ]
  },
  {
   "cell_type": "code",
   "execution_count": 15,
   "id": "4700ced8-79da-4d5f-87e3-8771f050caa4",
   "metadata": {},
   "outputs": [],
   "source": [
    "iso_map = HealpixMap(base = response, \n",
    "                     unit = u.s, \n",
    "                     coordsys = SpacecraftFrame())\n",
    "\n",
    "# Filling all pixels with a constant. The actual value doesn't\n",
    "# since we will renormalize it\n",
    "iso_map[:] = 1*u.s"
   ]
  },
  {
   "cell_type": "code",
   "execution_count": 16,
   "id": "b0dcee61-d3e5-478c-a2a5-206b80812f49",
   "metadata": {},
   "outputs": [],
   "source": [
    "# Non-realistic spectrum\n",
    "bkg_spectrum = Powerlaw(K = 1, index=-2)\n",
    "\"\"\"bkg_index = -2\n",
    "bkg_piv = 1 * u.keV\n",
    "bkg_K = 1 / u.cm / u.cm / u.s / u.keV\n",
    "bkg_spectrum.index.value = bkg_index\n",
    "bkg_spectrum.K.value = bkg_K.value\n",
    "bkg_spectrum.piv.value = bkg_piv.value\n",
    "bkg_spectrum.K.unit = bkg_K.unit\n",
    "bkg_spectrum.piv.unit = bkg_piv.unit\n",
    "\"\"\"    \n",
    "iso_response = response.get_point_source_response(iso_map)\n",
    "    \n",
    "bkg = iso_response.get_expectation(bkg_spectrum).project(['Em', 'Phi', 'PsiChi'])"
   ]
  },
  {
   "cell_type": "markdown",
   "id": "c0de926a-f12e-4c79-b7df-3cd94edd0c88",
   "metadata": {},
   "source": [
    "Now, let's renormalize the background to a total rate of 1k Hz. This is again not realistic, but was chosen such that the signal will show up clearly enough above the background and we can work on the algorihtms."
   ]
  },
  {
   "cell_type": "code",
   "execution_count": 20,
   "id": "02ae055f-9549-4f38-a8e6-d0e57af60cbe",
   "metadata": {},
   "outputs": [
    {
     "data": {
      "text/plain": [
       "90238.31928090738"
      ]
     },
     "execution_count": 20,
     "metadata": {},
     "output_type": "execute_result"
    }
   ],
   "source": [
    "np.sum(bkg)"
   ]
  },
  {
   "cell_type": "code",
   "execution_count": 21,
   "id": "5c0cc346-7bd6-4d67-b98b-e94bcf5569aa",
   "metadata": {},
   "outputs": [],
   "source": [
    "bkg = bkg * 1e3 / np.sum(bkg)"
   ]
  },
  {
   "cell_type": "code",
   "execution_count": 22,
   "id": "3bf9becd-f9af-4259-b3af-22d0aa3e100a",
   "metadata": {},
   "outputs": [
    {
     "data": {
      "text/plain": [
       "1000.0000000000001"
      ]
     },
     "execution_count": 22,
     "metadata": {},
     "output_type": "execute_result"
    }
   ],
   "source": [
    "np.sum(bkg)"
   ]
  },
  {
   "cell_type": "markdown",
   "id": "71024a7d-1742-4a57-9b23-cd47bc1ae603",
   "metadata": {},
   "source": [
    "These are the same plots as we did for the signal, so you can compare:"
   ]
  },
  {
   "cell_type": "code",
   "execution_count": 23,
   "id": "aa8589a2-cff1-4c68-bae8-c78c1691a0fb",
   "metadata": {},
   "outputs": [
    {
     "data": {
      "text/plain": [
       "(<Axes: xlabel='Em [keV]', ylabel='[cm2 keV s]'>,\n",
       " <ErrorbarContainer object of 3 artists>)"
      ]
     },
     "execution_count": 23,
     "metadata": {},
     "output_type": "execute_result"
    },
    {
     "data": {
      "image/png": "[encoded data removed]",
      "text/plain": [
       "<Figure size 640x480 with 1 Axes>"
      ]
     },
     "metadata": {},
     "output_type": "display_data"
    }
   ],
   "source": [
    "bkg.project('Em').plot()"
   ]
  },
  {
   "cell_type": "code",
   "execution_count": 24,
   "id": "eee3d467-d795-43b3-857e-b6cc1c09c1f7",
   "metadata": {},
   "outputs": [
    {
     "ename": "TypeError",
     "evalue": "matplotlib.transforms.Bbox.from_bounds() argument after * must be an iterable, not int",
     "output_type": "error",
     "traceback": [
      "\u001b[0;31m---------------------------------------------------------------------------\u001b[0m",
      "\u001b[0;31mTypeError\u001b[0m                                 Traceback (most recent call last)",
      "Cell \u001b[0;32mIn[24], line 5\u001b[0m\n\u001b[1;32m      1\u001b[0m m_bkg \u001b[38;5;241m=\u001b[39m HealpixMap(bkg\u001b[38;5;241m.\u001b[39mslice[{\u001b[38;5;124m'\u001b[39m\u001b[38;5;124mEm\u001b[39m\u001b[38;5;124m'\u001b[39m:\u001b[38;5;241m3\u001b[39m, \u001b[38;5;124m'\u001b[39m\u001b[38;5;124mPhi\u001b[39m\u001b[38;5;124m'\u001b[39m:\u001b[38;5;241m4\u001b[39m}]\u001b[38;5;241m.\u001b[39mproject(\u001b[38;5;124m'\u001b[39m\u001b[38;5;124mPsiChi\u001b[39m\u001b[38;5;124m'\u001b[39m)\u001b[38;5;241m.\u001b[39mtodense()\u001b[38;5;241m.\u001b[39mcontents)\n\u001b[1;32m      3\u001b[0m fig \u001b[38;5;241m=\u001b[39m plt\u001b[38;5;241m.\u001b[39mfigure(dpi \u001b[38;5;241m=\u001b[39m \u001b[38;5;241m150\u001b[39m)\n\u001b[0;32m----> 5\u001b[0m ax \u001b[38;5;241m=\u001b[39m \u001b[43mfig\u001b[49m\u001b[38;5;241;43m.\u001b[39;49m\u001b[43madd_subplot\u001b[49m\u001b[43m(\u001b[49m\u001b[43mprojection\u001b[49m\u001b[43m \u001b[49m\u001b[38;5;241;43m=\u001b[39;49m\u001b[43m \u001b[49m\u001b[38;5;124;43m'\u001b[39;49m\u001b[38;5;124;43morthview\u001b[39;49m\u001b[38;5;124;43m'\u001b[39;49m\u001b[43m)\u001b[49m\n\u001b[1;32m      7\u001b[0m m_bkg\u001b[38;5;241m.\u001b[39mplot(ax)\n",
      "File \u001b[0;32m~/.virtualenvs/cosipy/lib/python3.9/site-packages/matplotlib/figure.py:757\u001b[0m, in \u001b[0;36mFigureBase.add_subplot\u001b[0;34m(self, *args, **kwargs)\u001b[0m\n\u001b[1;32m    754\u001b[0m         args \u001b[38;5;241m=\u001b[39m \u001b[38;5;28mtuple\u001b[39m(\u001b[38;5;28mmap\u001b[39m(\u001b[38;5;28mint\u001b[39m, \u001b[38;5;28mstr\u001b[39m(args[\u001b[38;5;241m0\u001b[39m])))\n\u001b[1;32m    755\u001b[0m     projection_class, pkw \u001b[38;5;241m=\u001b[39m \u001b[38;5;28mself\u001b[39m\u001b[38;5;241m.\u001b[39m_process_projection_requirements(\n\u001b[1;32m    756\u001b[0m         \u001b[38;5;241m*\u001b[39margs, \u001b[38;5;241m*\u001b[39m\u001b[38;5;241m*\u001b[39mkwargs)\n\u001b[0;32m--> 757\u001b[0m     ax \u001b[38;5;241m=\u001b[39m \u001b[43mprojection_class\u001b[49m\u001b[43m(\u001b[49m\u001b[38;5;28;43mself\u001b[39;49m\u001b[43m,\u001b[49m\u001b[43m \u001b[49m\u001b[38;5;241;43m*\u001b[39;49m\u001b[43margs\u001b[49m\u001b[43m,\u001b[49m\u001b[43m \u001b[49m\u001b[38;5;241;43m*\u001b[39;49m\u001b[38;5;241;43m*\u001b[39;49m\u001b[43mpkw\u001b[49m\u001b[43m)\u001b[49m\n\u001b[1;32m    758\u001b[0m     key \u001b[38;5;241m=\u001b[39m (projection_class, pkw)\n\u001b[1;32m    759\u001b[0m \u001b[38;5;28;01mreturn\u001b[39;00m \u001b[38;5;28mself\u001b[39m\u001b[38;5;241m.\u001b[39m_add_axes_internal(ax, key)\n",
      "File \u001b[0;32m~/.virtualenvs/cosipy/lib/python3.9/site-packages/mhealpy/plot/axes.py:259\u001b[0m, in \u001b[0;36mOrthview.__init__\u001b[0;34m(self, *args, **kwargs)\u001b[0m\n\u001b[1;32m    257\u001b[0m \u001b[38;5;28;01mdef\u001b[39;00m \u001b[38;5;21m__init__\u001b[39m(\u001b[38;5;28mself\u001b[39m, \u001b[38;5;241m*\u001b[39margs, \u001b[38;5;241m*\u001b[39m\u001b[38;5;241m*\u001b[39mkwargs):\n\u001b[0;32m--> 259\u001b[0m     \u001b[38;5;28;43msuper\u001b[39;49m\u001b[43m(\u001b[49m\u001b[43m)\u001b[49m\u001b[38;5;241;43m.\u001b[39;49m\u001b[38;5;21;43m__init__\u001b[39;49m\u001b[43m(\u001b[49m\u001b[38;5;241;43m*\u001b[39;49m\u001b[43margs\u001b[49m\u001b[43m,\u001b[49m\n\u001b[1;32m    260\u001b[0m \u001b[43m                     \u001b[49m\u001b[43mframe_class\u001b[49m\u001b[43m \u001b[49m\u001b[38;5;241;43m=\u001b[39;49m\u001b[43m \u001b[49m\u001b[43mkwargs\u001b[49m\u001b[38;5;241;43m.\u001b[39;49m\u001b[43mpop\u001b[49m\u001b[43m(\u001b[49m\u001b[38;5;124;43m'\u001b[39;49m\u001b[38;5;124;43mframe_class\u001b[39;49m\u001b[38;5;124;43m'\u001b[39;49m\u001b[43m,\u001b[49m\u001b[43m \u001b[49m\u001b[43mEllipticalFrame\u001b[49m\u001b[43m)\u001b[49m\u001b[43m,\u001b[49m\n\u001b[1;32m    261\u001b[0m \u001b[43m                     \u001b[49m\u001b[38;5;241;43m*\u001b[39;49m\u001b[38;5;241;43m*\u001b[39;49m\u001b[43mkwargs\u001b[49m\u001b[43m)\u001b[49m\n",
      "File \u001b[0;32m~/.virtualenvs/cosipy/lib/python3.9/site-packages/mhealpy/plot/axes.py:41\u001b[0m, in \u001b[0;36mHealpyAxes.__init__\u001b[0;34m(self, fig, rect, coord, flip, rot, **kwargs)\u001b[0m\n\u001b[1;32m     24\u001b[0m \u001b[38;5;250m\u001b[39m\u001b[38;5;124;03m\"\"\"\u001b[39;00m\n\u001b[1;32m     25\u001b[0m \u001b[38;5;124;03mBase class for WCSAxes that behave similar to healpy's projections.\u001b[39;00m\n\u001b[1;32m     26\u001b[0m \n\u001b[0;32m   (...)\u001b[0m\n\u001b[1;32m     37\u001b[0m \u001b[38;5;124;03m        of angle psi around this direction is applied.\u001b[39;00m\n\u001b[1;32m     38\u001b[0m \u001b[38;5;124;03m\"\"\"\u001b[39;00m\n\u001b[1;32m     40\u001b[0m \u001b[38;5;66;03m# Get equivalent WCS FITS header\u001b[39;00m\n\u001b[0;32m---> 41\u001b[0m naxis1,naxis2 \u001b[38;5;241m=\u001b[39m \u001b[38;5;28;43mself\u001b[39;49m\u001b[38;5;241;43m.\u001b[39;49m\u001b[43m_get_naxis\u001b[49m\u001b[43m(\u001b[49m\u001b[43mfig\u001b[49m\u001b[43m,\u001b[49m\u001b[43m \u001b[49m\u001b[43mrect\u001b[49m\u001b[43m)\u001b[49m\n\u001b[1;32m     43\u001b[0m \u001b[38;5;28;01mif\u001b[39;00m \u001b[38;5;28mself\u001b[39m\u001b[38;5;241m.\u001b[39m_autoscale:\n\u001b[1;32m     44\u001b[0m     \u001b[38;5;66;03m# Gnom specifies the reosolution and the limits are adjusted based\u001b[39;00m\n\u001b[1;32m     45\u001b[0m     \u001b[38;5;66;03m# on the figure sizes\u001b[39;00m\n\u001b[1;32m     46\u001b[0m     \u001b[38;5;66;03m# For the others the limits are fixed and the resolution is adjusted\u001b[39;00m\n\u001b[1;32m     47\u001b[0m     \u001b[38;5;66;03m# by scaling a normalized appropiate resolution\u001b[39;00m\n\u001b[1;32m     48\u001b[0m     \u001b[38;5;28mself\u001b[39m\u001b[38;5;241m.\u001b[39m_cdelt \u001b[38;5;241m*\u001b[39m\u001b[38;5;241m=\u001b[39m \u001b[38;5;241m360\u001b[39m\u001b[38;5;241m/\u001b[39mnaxis1\n",
      "File \u001b[0;32m~/.virtualenvs/cosipy/lib/python3.9/site-packages/mhealpy/plot/axes.py:140\u001b[0m, in \u001b[0;36mHealpyAxes._get_naxis\u001b[0;34m(self, fig, rect)\u001b[0m\n\u001b[1;32m    133\u001b[0m \u001b[38;5;250m\u001b[39m\u001b[38;5;124;03m\"\"\"\u001b[39;00m\n\u001b[1;32m    134\u001b[0m \u001b[38;5;124;03mReturn approapiate NAXIS1 and NAXIS2 for a given figure and Bbox (or bounds)\u001b[39;00m\n\u001b[1;32m    135\u001b[0m \u001b[38;5;124;03m    \u001b[39;00m\n\u001b[1;32m    136\u001b[0m \u001b[38;5;124;03maspect = naxis2/naxis1\u001b[39;00m\n\u001b[1;32m    137\u001b[0m \u001b[38;5;124;03m\"\"\"\u001b[39;00m\n\u001b[1;32m    139\u001b[0m \u001b[38;5;28;01mif\u001b[39;00m \u001b[38;5;129;01mnot\u001b[39;00m \u001b[38;5;28misinstance\u001b[39m(rect, Bbox):\n\u001b[0;32m--> 140\u001b[0m     rect \u001b[38;5;241m=\u001b[39m \u001b[43mBbox\u001b[49m\u001b[38;5;241;43m.\u001b[39;49m\u001b[43mfrom_bounds\u001b[49m\u001b[43m(\u001b[49m\u001b[38;5;241;43m*\u001b[39;49m\u001b[43mrect\u001b[49m\u001b[43m)\u001b[49m\n\u001b[1;32m    142\u001b[0m naxis1 \u001b[38;5;241m=\u001b[39m fig\u001b[38;5;241m.\u001b[39mget_figwidth() \u001b[38;5;241m*\u001b[39m fig\u001b[38;5;241m.\u001b[39mdpi \u001b[38;5;241m*\u001b[39m rect\u001b[38;5;241m.\u001b[39mwidth\n\u001b[1;32m    143\u001b[0m naxis2 \u001b[38;5;241m=\u001b[39m fig\u001b[38;5;241m.\u001b[39mget_figheight() \u001b[38;5;241m*\u001b[39m fig\u001b[38;5;241m.\u001b[39mdpi \u001b[38;5;241m*\u001b[39m rect\u001b[38;5;241m.\u001b[39mheight\n",
      "\u001b[0;31mTypeError\u001b[0m: matplotlib.transforms.Bbox.from_bounds() argument after * must be an iterable, not int"
     ]
    },
    {
     "data": {
      "text/plain": [
       "<Figure size 960x720 with 0 Axes>"
      ]
     },
     "metadata": {},
     "output_type": "display_data"
    }
   ],
   "source": [
    "m_bkg = HealpixMap(bkg.slice[{'Em':3, 'Phi':4}].project('PsiChi').todense().contents)\n",
    "\n",
    "fig = plt.figure(dpi = 150)\n",
    "\n",
    "ax = fig.add_subplot(projection = 'orthview')\n",
    "\n",
    "m_bkg.plot(ax)"
   ]
  },
  {
   "cell_type": "markdown",
   "id": "3bcca3df-33c4-4843-aac1-27facf67cafe",
   "metadata": {},
   "source": [
    "Note: I actually don't understand what causes the strip in the middle. Maybe it's a beating pattern caused by converting from FISBEL to HEALPix during the creation of the detector response. I plan to generate a detector response using HEALPix directly, and will revisit this then."
   ]
  },
  {
   "cell_type": "markdown",
   "id": "61f927b2-1132-4afe-971a-cc649a832ebb",
   "metadata": {},
   "source": [
    "## Putting it togetter"
   ]
  },
  {
   "cell_type": "markdown",
   "id": "2b0ce845-5b17-48e9-8282-97e6d703bcbc",
   "metadata": {},
   "source": [
    "Once we obtain the expected signal, it's easy to add it do the background to simulate how the observed data would look like"
   ]
  },
  {
   "cell_type": "markdown",
   "id": "7d4f3132",
   "metadata": {},
   "source": [
    "Here we draw a Poisson sample to get the actual counts for both sky (signal) and background"
   ]
  },
  {
   "cell_type": "code",
   "execution_count": 25,
   "id": "2b549107",
   "metadata": {},
   "outputs": [],
   "source": [
    "def Poisson_Sample_Sparse_Histogram(signal):\n",
    "    from histpy import Histogram\n",
    "    from sparse import COO\n",
    "    pdata = np.random.poisson(signal.todense()[:].value)\n",
    "    psignal = Histogram(signal.axes,\n",
    "                    COO(np.nonzero(pdata),\n",
    "                        data=pdata[np.nonzero(pdata)],\n",
    "                        shape=pdata.shape),\n",
    "                    sparse=True)\n",
    "    return psignal"
   ]
  },
  {
   "cell_type": "code",
   "execution_count": 26,
   "id": "d6e1970f",
   "metadata": {},
   "outputs": [],
   "source": [
    "psignal = Poisson_Sample_Sparse_Histogram(signal)"
   ]
  },
  {
   "cell_type": "code",
   "execution_count": 27,
   "id": "27810ec2",
   "metadata": {},
   "outputs": [
    {
     "data": {
      "text/html": [
       "<table><tbody><tr><th style=\"text-align: left\">Format</th><td style=\"text-align: left\">coo</td></tr><tr><th style=\"text-align: left\">Data Type</th><td style=\"text-align: left\">int64</td></tr><tr><th style=\"text-align: left\">Shape</th><td style=\"text-align: left\">(5, 18, 768)</td></tr><tr><th style=\"text-align: left\">nnz</th><td style=\"text-align: left\">660</td></tr><tr><th style=\"text-align: left\">Density</th><td style=\"text-align: left\">0.009548611111111112</td></tr><tr><th style=\"text-align: left\">Read-only</th><td style=\"text-align: left\">True</td></tr><tr><th style=\"text-align: left\">Size</th><td style=\"text-align: left\">20.6K</td></tr><tr><th style=\"text-align: left\">Storage ratio</th><td style=\"text-align: left\">0.0</td></tr></tbody></table>"
      ],
      "text/plain": [
       "<COO: shape=(5, 18, 768), dtype=int64, nnz=660, fill_value=0>"
      ]
     },
     "execution_count": 27,
     "metadata": {},
     "output_type": "execute_result"
    }
   ],
   "source": [
    "psignal.contents"
   ]
  },
  {
   "cell_type": "code",
   "execution_count": 28,
   "id": "a7585acf",
   "metadata": {},
   "outputs": [
    {
     "data": {
      "text/html": [
       "<table><tbody><tr><th style=\"text-align: left\">Format</th><td style=\"text-align: left\">coo</td></tr><tr><th style=\"text-align: left\">Data Type</th><td style=\"text-align: left\">float64</td></tr><tr><th style=\"text-align: left\">Shape</th><td style=\"text-align: left\">(5, 18, 768)</td></tr><tr><th style=\"text-align: left\">nnz</th><td style=\"text-align: left\">63868</td></tr><tr><th style=\"text-align: left\">Density</th><td style=\"text-align: left\">0.9240162037037037</td></tr><tr><th style=\"text-align: left\">Read-only</th><td style=\"text-align: left\">True</td></tr><tr><th style=\"text-align: left\">Size</th><td style=\"text-align: left\">1.9M</td></tr><tr><th style=\"text-align: left\">Storage ratio</th><td style=\"text-align: left\">3.7</td></tr></tbody></table>"
      ],
      "text/plain": [
       "<COO: shape=(5, 18, 768), dtype=float64, nnz=63868, fill_value=0.0>"
      ]
     },
     "execution_count": 28,
     "metadata": {},
     "output_type": "execute_result"
    }
   ],
   "source": [
    "signal.contents"
   ]
  },
  {
   "cell_type": "code",
   "execution_count": 29,
   "id": "a028593b",
   "metadata": {},
   "outputs": [],
   "source": [
    "pbkg = Poisson_Sample_Sparse_Histogram(bkg)"
   ]
  },
  {
   "cell_type": "code",
   "execution_count": 30,
   "id": "1fe206e8",
   "metadata": {},
   "outputs": [
    {
     "data": {
      "text/html": [
       "<table><tbody><tr><th style=\"text-align: left\">Format</th><td style=\"text-align: left\">coo</td></tr><tr><th style=\"text-align: left\">Data Type</th><td style=\"text-align: left\">int64</td></tr><tr><th style=\"text-align: left\">Shape</th><td style=\"text-align: left\">(5, 18, 768)</td></tr><tr><th style=\"text-align: left\">nnz</th><td style=\"text-align: left\">967</td></tr><tr><th style=\"text-align: left\">Density</th><td style=\"text-align: left\">0.013990162037037037</td></tr><tr><th style=\"text-align: left\">Read-only</th><td style=\"text-align: left\">True</td></tr><tr><th style=\"text-align: left\">Size</th><td style=\"text-align: left\">30.2K</td></tr><tr><th style=\"text-align: left\">Storage ratio</th><td style=\"text-align: left\">0.1</td></tr></tbody></table>"
      ],
      "text/plain": [
       "<COO: shape=(5, 18, 768), dtype=int64, nnz=967, fill_value=0>"
      ]
     },
     "execution_count": 30,
     "metadata": {},
     "output_type": "execute_result"
    }
   ],
   "source": [
    "pbkg.contents"
   ]
  },
  {
   "cell_type": "code",
   "execution_count": 31,
   "id": "9f10bcbe",
   "metadata": {},
   "outputs": [
    {
     "data": {
      "text/html": [
       "<table><tbody><tr><th style=\"text-align: left\">Format</th><td style=\"text-align: left\">coo</td></tr><tr><th style=\"text-align: left\">Data Type</th><td style=\"text-align: left\">float64</td></tr><tr><th style=\"text-align: left\">Shape</th><td style=\"text-align: left\">(5, 18, 768)</td></tr><tr><th style=\"text-align: left\">nnz</th><td style=\"text-align: left\">66048</td></tr><tr><th style=\"text-align: left\">Density</th><td style=\"text-align: left\">0.9555555555555556</td></tr><tr><th style=\"text-align: left\">Read-only</th><td style=\"text-align: left\">True</td></tr><tr><th style=\"text-align: left\">Size</th><td style=\"text-align: left\">2.0M</td></tr><tr><th style=\"text-align: left\">Storage ratio</th><td style=\"text-align: left\">3.8</td></tr></tbody></table>"
      ],
      "text/plain": [
       "<COO: shape=(5, 18, 768), dtype=float64, nnz=66048, fill_value=0.0>"
      ]
     },
     "execution_count": 31,
     "metadata": {},
     "output_type": "execute_result"
    }
   ],
   "source": [
    "bkg.contents"
   ]
  },
  {
   "cell_type": "markdown",
   "id": "2ab6c5e9",
   "metadata": {},
   "source": [
    "Summing the model components:"
   ]
  },
  {
   "cell_type": "code",
   "execution_count": null,
   "id": "532c28d0",
   "metadata": {},
   "outputs": [],
   "source": []
  },
  {
   "cell_type": "code",
   "execution_count": 32,
   "id": "a4d46bc6",
   "metadata": {},
   "outputs": [],
   "source": [
    "pdata = psignal + pbkg"
   ]
  },
  {
   "cell_type": "code",
   "execution_count": 33,
   "id": "5c9e5f28-0c5c-475c-923b-47b0ba28c38b",
   "metadata": {},
   "outputs": [],
   "source": [
    "data = signal + bkg"
   ]
  },
  {
   "cell_type": "markdown",
   "id": "70e53ffc-0e27-422d-88c6-f3a6f3969dae",
   "metadata": {},
   "source": [
    "If the user wants to simulate multiple sources, just add those to this sum.\n",
    "\n",
    "This is how it looks:"
   ]
  },
  {
   "cell_type": "code",
   "execution_count": 34,
   "id": "8962acdf-949a-4f02-b932-8a974c068b1e",
   "metadata": {},
   "outputs": [
    {
     "ename": "TypeError",
     "evalue": "matplotlib.transforms.Bbox.from_bounds() argument after * must be an iterable, not int",
     "output_type": "error",
     "traceback": [
      "\u001b[0;31m---------------------------------------------------------------------------\u001b[0m",
      "\u001b[0;31mTypeError\u001b[0m                                 Traceback (most recent call last)",
      "Cell \u001b[0;32mIn[34], line 5\u001b[0m\n\u001b[1;32m      1\u001b[0m m_data \u001b[38;5;241m=\u001b[39m HealpixMap(data\u001b[38;5;241m.\u001b[39mslice[{\u001b[38;5;124m'\u001b[39m\u001b[38;5;124mEm\u001b[39m\u001b[38;5;124m'\u001b[39m:\u001b[38;5;241m3\u001b[39m, \u001b[38;5;124m'\u001b[39m\u001b[38;5;124mPhi\u001b[39m\u001b[38;5;124m'\u001b[39m:\u001b[38;5;241m4\u001b[39m}]\u001b[38;5;241m.\u001b[39mproject(\u001b[38;5;124m'\u001b[39m\u001b[38;5;124mPsiChi\u001b[39m\u001b[38;5;124m'\u001b[39m)\u001b[38;5;241m.\u001b[39mtodense()\u001b[38;5;241m.\u001b[39mcontents)\n\u001b[1;32m      3\u001b[0m fig \u001b[38;5;241m=\u001b[39m plt\u001b[38;5;241m.\u001b[39mfigure(dpi \u001b[38;5;241m=\u001b[39m \u001b[38;5;241m150\u001b[39m)\n\u001b[0;32m----> 5\u001b[0m ax \u001b[38;5;241m=\u001b[39m \u001b[43mfig\u001b[49m\u001b[38;5;241;43m.\u001b[39;49m\u001b[43madd_subplot\u001b[49m\u001b[43m(\u001b[49m\u001b[38;5;241;43m1\u001b[39;49m\u001b[43m,\u001b[49m\u001b[38;5;241;43m2\u001b[39;49m\u001b[43m,\u001b[49m\u001b[38;5;241;43m1\u001b[39;49m\u001b[43m,\u001b[49m\u001b[43m \u001b[49m\u001b[43mprojection\u001b[49m\u001b[43m \u001b[49m\u001b[38;5;241;43m=\u001b[39;49m\u001b[43m \u001b[49m\u001b[38;5;124;43m'\u001b[39;49m\u001b[38;5;124;43morthview\u001b[39;49m\u001b[38;5;124;43m'\u001b[39;49m\u001b[43m)\u001b[49m\n\u001b[1;32m      7\u001b[0m m_data\u001b[38;5;241m.\u001b[39mplot(ax)\n",
      "File \u001b[0;32m~/.virtualenvs/cosipy/lib/python3.9/site-packages/matplotlib/figure.py:757\u001b[0m, in \u001b[0;36mFigureBase.add_subplot\u001b[0;34m(self, *args, **kwargs)\u001b[0m\n\u001b[1;32m    754\u001b[0m         args \u001b[38;5;241m=\u001b[39m \u001b[38;5;28mtuple\u001b[39m(\u001b[38;5;28mmap\u001b[39m(\u001b[38;5;28mint\u001b[39m, \u001b[38;5;28mstr\u001b[39m(args[\u001b[38;5;241m0\u001b[39m])))\n\u001b[1;32m    755\u001b[0m     projection_class, pkw \u001b[38;5;241m=\u001b[39m \u001b[38;5;28mself\u001b[39m\u001b[38;5;241m.\u001b[39m_process_projection_requirements(\n\u001b[1;32m    756\u001b[0m         \u001b[38;5;241m*\u001b[39margs, \u001b[38;5;241m*\u001b[39m\u001b[38;5;241m*\u001b[39mkwargs)\n\u001b[0;32m--> 757\u001b[0m     ax \u001b[38;5;241m=\u001b[39m \u001b[43mprojection_class\u001b[49m\u001b[43m(\u001b[49m\u001b[38;5;28;43mself\u001b[39;49m\u001b[43m,\u001b[49m\u001b[43m \u001b[49m\u001b[38;5;241;43m*\u001b[39;49m\u001b[43margs\u001b[49m\u001b[43m,\u001b[49m\u001b[43m \u001b[49m\u001b[38;5;241;43m*\u001b[39;49m\u001b[38;5;241;43m*\u001b[39;49m\u001b[43mpkw\u001b[49m\u001b[43m)\u001b[49m\n\u001b[1;32m    758\u001b[0m     key \u001b[38;5;241m=\u001b[39m (projection_class, pkw)\n\u001b[1;32m    759\u001b[0m \u001b[38;5;28;01mreturn\u001b[39;00m \u001b[38;5;28mself\u001b[39m\u001b[38;5;241m.\u001b[39m_add_axes_internal(ax, key)\n",
      "File \u001b[0;32m~/.virtualenvs/cosipy/lib/python3.9/site-packages/mhealpy/plot/axes.py:259\u001b[0m, in \u001b[0;36mOrthview.__init__\u001b[0;34m(self, *args, **kwargs)\u001b[0m\n\u001b[1;32m    257\u001b[0m \u001b[38;5;28;01mdef\u001b[39;00m \u001b[38;5;21m__init__\u001b[39m(\u001b[38;5;28mself\u001b[39m, \u001b[38;5;241m*\u001b[39margs, \u001b[38;5;241m*\u001b[39m\u001b[38;5;241m*\u001b[39mkwargs):\n\u001b[0;32m--> 259\u001b[0m     \u001b[38;5;28;43msuper\u001b[39;49m\u001b[43m(\u001b[49m\u001b[43m)\u001b[49m\u001b[38;5;241;43m.\u001b[39;49m\u001b[38;5;21;43m__init__\u001b[39;49m\u001b[43m(\u001b[49m\u001b[38;5;241;43m*\u001b[39;49m\u001b[43margs\u001b[49m\u001b[43m,\u001b[49m\n\u001b[1;32m    260\u001b[0m \u001b[43m                     \u001b[49m\u001b[43mframe_class\u001b[49m\u001b[43m \u001b[49m\u001b[38;5;241;43m=\u001b[39;49m\u001b[43m \u001b[49m\u001b[43mkwargs\u001b[49m\u001b[38;5;241;43m.\u001b[39;49m\u001b[43mpop\u001b[49m\u001b[43m(\u001b[49m\u001b[38;5;124;43m'\u001b[39;49m\u001b[38;5;124;43mframe_class\u001b[39;49m\u001b[38;5;124;43m'\u001b[39;49m\u001b[43m,\u001b[49m\u001b[43m \u001b[49m\u001b[43mEllipticalFrame\u001b[49m\u001b[43m)\u001b[49m\u001b[43m,\u001b[49m\n\u001b[1;32m    261\u001b[0m \u001b[43m                     \u001b[49m\u001b[38;5;241;43m*\u001b[39;49m\u001b[38;5;241;43m*\u001b[39;49m\u001b[43mkwargs\u001b[49m\u001b[43m)\u001b[49m\n",
      "File \u001b[0;32m~/.virtualenvs/cosipy/lib/python3.9/site-packages/mhealpy/plot/axes.py:41\u001b[0m, in \u001b[0;36mHealpyAxes.__init__\u001b[0;34m(self, fig, rect, coord, flip, rot, **kwargs)\u001b[0m\n\u001b[1;32m     24\u001b[0m \u001b[38;5;250m\u001b[39m\u001b[38;5;124;03m\"\"\"\u001b[39;00m\n\u001b[1;32m     25\u001b[0m \u001b[38;5;124;03mBase class for WCSAxes that behave similar to healpy's projections.\u001b[39;00m\n\u001b[1;32m     26\u001b[0m \n\u001b[0;32m   (...)\u001b[0m\n\u001b[1;32m     37\u001b[0m \u001b[38;5;124;03m        of angle psi around this direction is applied.\u001b[39;00m\n\u001b[1;32m     38\u001b[0m \u001b[38;5;124;03m\"\"\"\u001b[39;00m\n\u001b[1;32m     40\u001b[0m \u001b[38;5;66;03m# Get equivalent WCS FITS header\u001b[39;00m\n\u001b[0;32m---> 41\u001b[0m naxis1,naxis2 \u001b[38;5;241m=\u001b[39m \u001b[38;5;28;43mself\u001b[39;49m\u001b[38;5;241;43m.\u001b[39;49m\u001b[43m_get_naxis\u001b[49m\u001b[43m(\u001b[49m\u001b[43mfig\u001b[49m\u001b[43m,\u001b[49m\u001b[43m \u001b[49m\u001b[43mrect\u001b[49m\u001b[43m)\u001b[49m\n\u001b[1;32m     43\u001b[0m \u001b[38;5;28;01mif\u001b[39;00m \u001b[38;5;28mself\u001b[39m\u001b[38;5;241m.\u001b[39m_autoscale:\n\u001b[1;32m     44\u001b[0m     \u001b[38;5;66;03m# Gnom specifies the reosolution and the limits are adjusted based\u001b[39;00m\n\u001b[1;32m     45\u001b[0m     \u001b[38;5;66;03m# on the figure sizes\u001b[39;00m\n\u001b[1;32m     46\u001b[0m     \u001b[38;5;66;03m# For the others the limits are fixed and the resolution is adjusted\u001b[39;00m\n\u001b[1;32m     47\u001b[0m     \u001b[38;5;66;03m# by scaling a normalized appropiate resolution\u001b[39;00m\n\u001b[1;32m     48\u001b[0m     \u001b[38;5;28mself\u001b[39m\u001b[38;5;241m.\u001b[39m_cdelt \u001b[38;5;241m*\u001b[39m\u001b[38;5;241m=\u001b[39m \u001b[38;5;241m360\u001b[39m\u001b[38;5;241m/\u001b[39mnaxis1\n",
      "File \u001b[0;32m~/.virtualenvs/cosipy/lib/python3.9/site-packages/mhealpy/plot/axes.py:140\u001b[0m, in \u001b[0;36mHealpyAxes._get_naxis\u001b[0;34m(self, fig, rect)\u001b[0m\n\u001b[1;32m    133\u001b[0m \u001b[38;5;250m\u001b[39m\u001b[38;5;124;03m\"\"\"\u001b[39;00m\n\u001b[1;32m    134\u001b[0m \u001b[38;5;124;03mReturn approapiate NAXIS1 and NAXIS2 for a given figure and Bbox (or bounds)\u001b[39;00m\n\u001b[1;32m    135\u001b[0m \u001b[38;5;124;03m    \u001b[39;00m\n\u001b[1;32m    136\u001b[0m \u001b[38;5;124;03maspect = naxis2/naxis1\u001b[39;00m\n\u001b[1;32m    137\u001b[0m \u001b[38;5;124;03m\"\"\"\u001b[39;00m\n\u001b[1;32m    139\u001b[0m \u001b[38;5;28;01mif\u001b[39;00m \u001b[38;5;129;01mnot\u001b[39;00m \u001b[38;5;28misinstance\u001b[39m(rect, Bbox):\n\u001b[0;32m--> 140\u001b[0m     rect \u001b[38;5;241m=\u001b[39m \u001b[43mBbox\u001b[49m\u001b[38;5;241;43m.\u001b[39;49m\u001b[43mfrom_bounds\u001b[49m\u001b[43m(\u001b[49m\u001b[38;5;241;43m*\u001b[39;49m\u001b[43mrect\u001b[49m\u001b[43m)\u001b[49m\n\u001b[1;32m    142\u001b[0m naxis1 \u001b[38;5;241m=\u001b[39m fig\u001b[38;5;241m.\u001b[39mget_figwidth() \u001b[38;5;241m*\u001b[39m fig\u001b[38;5;241m.\u001b[39mdpi \u001b[38;5;241m*\u001b[39m rect\u001b[38;5;241m.\u001b[39mwidth\n\u001b[1;32m    143\u001b[0m naxis2 \u001b[38;5;241m=\u001b[39m fig\u001b[38;5;241m.\u001b[39mget_figheight() \u001b[38;5;241m*\u001b[39m fig\u001b[38;5;241m.\u001b[39mdpi \u001b[38;5;241m*\u001b[39m rect\u001b[38;5;241m.\u001b[39mheight\n",
      "\u001b[0;31mTypeError\u001b[0m: matplotlib.transforms.Bbox.from_bounds() argument after * must be an iterable, not int"
     ]
    },
    {
     "data": {
      "text/plain": [
       "<Figure size 960x720 with 0 Axes>"
      ]
     },
     "metadata": {},
     "output_type": "display_data"
    }
   ],
   "source": [
    "m_data = HealpixMap(data.slice[{'Em':3, 'Phi':4}].project('PsiChi').todense().contents)\n",
    "\n",
    "fig = plt.figure(dpi = 150)\n",
    "\n",
    "ax = fig.add_subplot(1,2,1, projection = 'orthview')\n",
    "\n",
    "m_data.plot(ax)"
   ]
  },
  {
   "cell_type": "markdown",
   "id": "cb3069c1-22ee-4b5a-bd0e-928d620f4f7d",
   "metadata": {},
   "source": [
    "The final source injector should save the result to disk in the same format as the \"Data classes\" module, including all the appropiate header information. However, for now you can use directly histpy's `write` method:"
   ]
  },
  {
   "cell_type": "code",
   "execution_count": 35,
   "id": "42d5f436-683e-421a-9996-88ab169844fd",
   "metadata": {},
   "outputs": [
    {
     "data": {
      "text/plain": [
       "'data.write(\"data.h5\")\\nbkg.write(\"bkg.h5\")\\nsignal.write(\"signal.h5\")'"
      ]
     },
     "execution_count": 35,
     "metadata": {},
     "output_type": "execute_result"
    }
   ],
   "source": [
    "\"\"\"data.write(\"data.h5\")\n",
    "bkg.write(\"bkg.h5\")\n",
    "signal.write(\"signal.h5\")\"\"\""
   ]
  },
  {
   "cell_type": "code",
   "execution_count": 36,
   "id": "576fa37d",
   "metadata": {},
   "outputs": [],
   "source": [
    "pdata.write(\"pdata_10x.h5\",overwrite=True)\n",
    "pbkg.write(\"pbkg.h5\",overwrite=True)\n",
    "psignal.write(\"psignal_10x.h5\",overwrite=True)"
   ]
  },
  {
   "cell_type": "markdown",
   "id": "79f22343-ad7e-4cf5-920c-0f0d7cd82ea5",
   "metadata": {},
   "source": [
    "To load them back, use:"
   ]
  },
  {
   "cell_type": "code",
   "execution_count": 31,
   "id": "d9bcda82-15c0-433a-ae2a-f59ee707d171",
   "metadata": {},
   "outputs": [],
   "source": [
    "data = Histogram.open(\"data.h5\")\n",
    "bkg = Histogram.open(\"bkg.h5\")\n",
    "signal = Histogram.open(\"signal.h5\")"
   ]
  },
  {
   "cell_type": "code",
   "execution_count": null,
   "id": "49ffb43f-95c3-4637-bf6f-b77314d198b0",
   "metadata": {},
   "outputs": [],
   "source": []
  }
 ],
 "metadata": {
  "kernelspec": {
   "display_name": "Python 3 (ipykernel)",
   "language": "python",
   "name": "python3"
  },
  "language_info": {
   "codemirror_mode": {
    "name": "ipython",
    "version": 3
   },
   "file_extension": ".py",
   "mimetype": "text/x-python",
   "name": "python",
   "nbconvert_exporter": "python",
   "pygments_lexer": "ipython3",
   "version": "3.9.13"
  }
 },
 "nbformat": 4,
 "nbformat_minor": 5
}
